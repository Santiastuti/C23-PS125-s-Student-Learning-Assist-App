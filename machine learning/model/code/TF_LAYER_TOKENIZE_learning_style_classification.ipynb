{
  "nbformat": 4,
  "nbformat_minor": 0,
  "metadata": {
    "colab": {
      "provenance": []
    },
    "kernelspec": {
      "name": "python3",
      "display_name": "Python 3"
    },
    "language_info": {
      "name": "python"
    }
  },
  "cells": [
    {
      "cell_type": "code",
      "execution_count": null,
      "metadata": {
        "id": "WjTOoAu3ogh1",
        "colab": {
          "base_uri": "https://localhost:8080/"
        },
        "outputId": "0db06880-4f50-4c30-9284-6947900d71e7"
      },
      "outputs": [
        {
          "output_type": "stream",
          "name": "stderr",
          "text": [
            "[nltk_data] Downloading collection 'all'\n",
            "[nltk_data]    | \n",
            "[nltk_data]    | Downloading package abc to /root/nltk_data...\n",
            "[nltk_data]    |   Unzipping corpora/abc.zip.\n",
            "[nltk_data]    | Downloading package alpino to /root/nltk_data...\n",
            "[nltk_data]    |   Unzipping corpora/alpino.zip.\n",
            "[nltk_data]    | Downloading package averaged_perceptron_tagger to\n",
            "[nltk_data]    |     /root/nltk_data...\n",
            "[nltk_data]    |   Unzipping taggers/averaged_perceptron_tagger.zip.\n",
            "[nltk_data]    | Downloading package averaged_perceptron_tagger_ru to\n",
            "[nltk_data]    |     /root/nltk_data...\n",
            "[nltk_data]    |   Unzipping\n",
            "[nltk_data]    |       taggers/averaged_perceptron_tagger_ru.zip.\n",
            "[nltk_data]    | Downloading package basque_grammars to\n",
            "[nltk_data]    |     /root/nltk_data...\n",
            "[nltk_data]    |   Unzipping grammars/basque_grammars.zip.\n",
            "[nltk_data]    | Downloading package bcp47 to /root/nltk_data...\n",
            "[nltk_data]    | Downloading package biocreative_ppi to\n",
            "[nltk_data]    |     /root/nltk_data...\n",
            "[nltk_data]    |   Unzipping corpora/biocreative_ppi.zip.\n",
            "[nltk_data]    | Downloading package bllip_wsj_no_aux to\n",
            "[nltk_data]    |     /root/nltk_data...\n",
            "[nltk_data]    |   Unzipping models/bllip_wsj_no_aux.zip.\n",
            "[nltk_data]    | Downloading package book_grammars to\n",
            "[nltk_data]    |     /root/nltk_data...\n",
            "[nltk_data]    |   Unzipping grammars/book_grammars.zip.\n",
            "[nltk_data]    | Downloading package brown to /root/nltk_data...\n",
            "[nltk_data]    |   Unzipping corpora/brown.zip.\n",
            "[nltk_data]    | Downloading package brown_tei to /root/nltk_data...\n",
            "[nltk_data]    |   Unzipping corpora/brown_tei.zip.\n",
            "[nltk_data]    | Downloading package cess_cat to /root/nltk_data...\n",
            "[nltk_data]    |   Unzipping corpora/cess_cat.zip.\n",
            "[nltk_data]    | Downloading package cess_esp to /root/nltk_data...\n",
            "[nltk_data]    |   Unzipping corpora/cess_esp.zip.\n",
            "[nltk_data]    | Downloading package chat80 to /root/nltk_data...\n",
            "[nltk_data]    |   Unzipping corpora/chat80.zip.\n",
            "[nltk_data]    | Downloading package city_database to\n",
            "[nltk_data]    |     /root/nltk_data...\n",
            "[nltk_data]    |   Unzipping corpora/city_database.zip.\n",
            "[nltk_data]    | Downloading package cmudict to /root/nltk_data...\n",
            "[nltk_data]    |   Unzipping corpora/cmudict.zip.\n",
            "[nltk_data]    | Downloading package comparative_sentences to\n",
            "[nltk_data]    |     /root/nltk_data...\n",
            "[nltk_data]    |   Unzipping corpora/comparative_sentences.zip.\n",
            "[nltk_data]    | Downloading package comtrans to /root/nltk_data...\n",
            "[nltk_data]    | Downloading package conll2000 to /root/nltk_data...\n",
            "[nltk_data]    |   Unzipping corpora/conll2000.zip.\n",
            "[nltk_data]    | Downloading package conll2002 to /root/nltk_data...\n",
            "[nltk_data]    |   Unzipping corpora/conll2002.zip.\n",
            "[nltk_data]    | Downloading package conll2007 to /root/nltk_data...\n",
            "[nltk_data]    | Downloading package crubadan to /root/nltk_data...\n",
            "[nltk_data]    |   Unzipping corpora/crubadan.zip.\n",
            "[nltk_data]    | Downloading package dependency_treebank to\n",
            "[nltk_data]    |     /root/nltk_data...\n",
            "[nltk_data]    |   Unzipping corpora/dependency_treebank.zip.\n",
            "[nltk_data]    | Downloading package dolch to /root/nltk_data...\n",
            "[nltk_data]    |   Unzipping corpora/dolch.zip.\n",
            "[nltk_data]    | Downloading package europarl_raw to\n",
            "[nltk_data]    |     /root/nltk_data...\n",
            "[nltk_data]    |   Unzipping corpora/europarl_raw.zip.\n",
            "[nltk_data]    | Downloading package extended_omw to\n",
            "[nltk_data]    |     /root/nltk_data...\n",
            "[nltk_data]    | Downloading package floresta to /root/nltk_data...\n",
            "[nltk_data]    |   Unzipping corpora/floresta.zip.\n",
            "[nltk_data]    | Downloading package framenet_v15 to\n",
            "[nltk_data]    |     /root/nltk_data...\n",
            "[nltk_data]    |   Unzipping corpora/framenet_v15.zip.\n",
            "[nltk_data]    | Downloading package framenet_v17 to\n",
            "[nltk_data]    |     /root/nltk_data...\n",
            "[nltk_data]    |   Unzipping corpora/framenet_v17.zip.\n",
            "[nltk_data]    | Downloading package gazetteers to /root/nltk_data...\n",
            "[nltk_data]    |   Unzipping corpora/gazetteers.zip.\n",
            "[nltk_data]    | Downloading package genesis to /root/nltk_data...\n",
            "[nltk_data]    |   Unzipping corpora/genesis.zip.\n",
            "[nltk_data]    | Downloading package gutenberg to /root/nltk_data...\n",
            "[nltk_data]    |   Unzipping corpora/gutenberg.zip.\n",
            "[nltk_data]    | Downloading package ieer to /root/nltk_data...\n",
            "[nltk_data]    |   Unzipping corpora/ieer.zip.\n",
            "[nltk_data]    | Downloading package inaugural to /root/nltk_data...\n",
            "[nltk_data]    |   Unzipping corpora/inaugural.zip.\n",
            "[nltk_data]    | Downloading package indian to /root/nltk_data...\n",
            "[nltk_data]    |   Unzipping corpora/indian.zip.\n",
            "[nltk_data]    | Downloading package jeita to /root/nltk_data...\n",
            "[nltk_data]    | Downloading package kimmo to /root/nltk_data...\n",
            "[nltk_data]    |   Unzipping corpora/kimmo.zip.\n",
            "[nltk_data]    | Downloading package knbc to /root/nltk_data...\n",
            "[nltk_data]    | Downloading package large_grammars to\n",
            "[nltk_data]    |     /root/nltk_data...\n",
            "[nltk_data]    |   Unzipping grammars/large_grammars.zip.\n",
            "[nltk_data]    | Downloading package lin_thesaurus to\n",
            "[nltk_data]    |     /root/nltk_data...\n",
            "[nltk_data]    |   Unzipping corpora/lin_thesaurus.zip.\n",
            "[nltk_data]    | Downloading package mac_morpho to /root/nltk_data...\n",
            "[nltk_data]    |   Unzipping corpora/mac_morpho.zip.\n",
            "[nltk_data]    | Downloading package machado to /root/nltk_data...\n",
            "[nltk_data]    | Downloading package masc_tagged to /root/nltk_data...\n",
            "[nltk_data]    | Downloading package maxent_ne_chunker to\n",
            "[nltk_data]    |     /root/nltk_data...\n",
            "[nltk_data]    |   Unzipping chunkers/maxent_ne_chunker.zip.\n",
            "[nltk_data]    | Downloading package maxent_treebank_pos_tagger to\n",
            "[nltk_data]    |     /root/nltk_data...\n",
            "[nltk_data]    |   Unzipping taggers/maxent_treebank_pos_tagger.zip.\n",
            "[nltk_data]    | Downloading package moses_sample to\n",
            "[nltk_data]    |     /root/nltk_data...\n",
            "[nltk_data]    |   Unzipping models/moses_sample.zip.\n",
            "[nltk_data]    | Downloading package movie_reviews to\n",
            "[nltk_data]    |     /root/nltk_data...\n",
            "[nltk_data]    |   Unzipping corpora/movie_reviews.zip.\n",
            "[nltk_data]    | Downloading package mte_teip5 to /root/nltk_data...\n",
            "[nltk_data]    |   Unzipping corpora/mte_teip5.zip.\n",
            "[nltk_data]    | Downloading package mwa_ppdb to /root/nltk_data...\n",
            "[nltk_data]    |   Unzipping misc/mwa_ppdb.zip.\n",
            "[nltk_data]    | Downloading package names to /root/nltk_data...\n",
            "[nltk_data]    |   Unzipping corpora/names.zip.\n",
            "[nltk_data]    | Downloading package nombank.1.0 to /root/nltk_data...\n",
            "[nltk_data]    | Downloading package nonbreaking_prefixes to\n",
            "[nltk_data]    |     /root/nltk_data...\n",
            "[nltk_data]    |   Unzipping corpora/nonbreaking_prefixes.zip.\n",
            "[nltk_data]    | Downloading package nps_chat to /root/nltk_data...\n",
            "[nltk_data]    |   Unzipping corpora/nps_chat.zip.\n",
            "[nltk_data]    | Downloading package omw to /root/nltk_data...\n",
            "[nltk_data]    | Downloading package omw-1.4 to /root/nltk_data...\n",
            "[nltk_data]    | Downloading package opinion_lexicon to\n",
            "[nltk_data]    |     /root/nltk_data...\n",
            "[nltk_data]    |   Unzipping corpora/opinion_lexicon.zip.\n",
            "[nltk_data]    | Downloading package panlex_swadesh to\n",
            "[nltk_data]    |     /root/nltk_data...\n",
            "[nltk_data]    | Downloading package paradigms to /root/nltk_data...\n",
            "[nltk_data]    |   Unzipping corpora/paradigms.zip.\n",
            "[nltk_data]    | Downloading package pe08 to /root/nltk_data...\n",
            "[nltk_data]    |   Unzipping corpora/pe08.zip.\n",
            "[nltk_data]    | Downloading package perluniprops to\n",
            "[nltk_data]    |     /root/nltk_data...\n",
            "[nltk_data]    |   Unzipping misc/perluniprops.zip.\n",
            "[nltk_data]    | Downloading package pil to /root/nltk_data...\n",
            "[nltk_data]    |   Unzipping corpora/pil.zip.\n",
            "[nltk_data]    | Downloading package pl196x to /root/nltk_data...\n",
            "[nltk_data]    |   Unzipping corpora/pl196x.zip.\n",
            "[nltk_data]    | Downloading package porter_test to /root/nltk_data...\n",
            "[nltk_data]    |   Unzipping stemmers/porter_test.zip.\n",
            "[nltk_data]    | Downloading package ppattach to /root/nltk_data...\n",
            "[nltk_data]    |   Unzipping corpora/ppattach.zip.\n",
            "[nltk_data]    | Downloading package problem_reports to\n",
            "[nltk_data]    |     /root/nltk_data...\n",
            "[nltk_data]    |   Unzipping corpora/problem_reports.zip.\n",
            "[nltk_data]    | Downloading package product_reviews_1 to\n",
            "[nltk_data]    |     /root/nltk_data...\n",
            "[nltk_data]    |   Unzipping corpora/product_reviews_1.zip.\n",
            "[nltk_data]    | Downloading package product_reviews_2 to\n",
            "[nltk_data]    |     /root/nltk_data...\n",
            "[nltk_data]    |   Unzipping corpora/product_reviews_2.zip.\n",
            "[nltk_data]    | Downloading package propbank to /root/nltk_data...\n",
            "[nltk_data]    | Downloading package pros_cons to /root/nltk_data...\n",
            "[nltk_data]    |   Unzipping corpora/pros_cons.zip.\n",
            "[nltk_data]    | Downloading package ptb to /root/nltk_data...\n",
            "[nltk_data]    |   Unzipping corpora/ptb.zip.\n",
            "[nltk_data]    | Downloading package punkt to /root/nltk_data...\n",
            "[nltk_data]    |   Unzipping tokenizers/punkt.zip.\n",
            "[nltk_data]    | Downloading package qc to /root/nltk_data...\n",
            "[nltk_data]    |   Unzipping corpora/qc.zip.\n",
            "[nltk_data]    | Downloading package reuters to /root/nltk_data...\n",
            "[nltk_data]    | Downloading package rslp to /root/nltk_data...\n",
            "[nltk_data]    |   Unzipping stemmers/rslp.zip.\n",
            "[nltk_data]    | Downloading package rte to /root/nltk_data...\n",
            "[nltk_data]    |   Unzipping corpora/rte.zip.\n",
            "[nltk_data]    | Downloading package sample_grammars to\n",
            "[nltk_data]    |     /root/nltk_data...\n",
            "[nltk_data]    |   Unzipping grammars/sample_grammars.zip.\n",
            "[nltk_data]    | Downloading package semcor to /root/nltk_data...\n",
            "[nltk_data]    | Downloading package senseval to /root/nltk_data...\n",
            "[nltk_data]    |   Unzipping corpora/senseval.zip.\n",
            "[nltk_data]    | Downloading package sentence_polarity to\n",
            "[nltk_data]    |     /root/nltk_data...\n",
            "[nltk_data]    |   Unzipping corpora/sentence_polarity.zip.\n",
            "[nltk_data]    | Downloading package sentiwordnet to\n",
            "[nltk_data]    |     /root/nltk_data...\n",
            "[nltk_data]    |   Unzipping corpora/sentiwordnet.zip.\n",
            "[nltk_data]    | Downloading package shakespeare to /root/nltk_data...\n",
            "[nltk_data]    |   Unzipping corpora/shakespeare.zip.\n",
            "[nltk_data]    | Downloading package sinica_treebank to\n",
            "[nltk_data]    |     /root/nltk_data...\n",
            "[nltk_data]    |   Unzipping corpora/sinica_treebank.zip.\n",
            "[nltk_data]    | Downloading package smultron to /root/nltk_data...\n",
            "[nltk_data]    |   Unzipping corpora/smultron.zip.\n",
            "[nltk_data]    | Downloading package snowball_data to\n",
            "[nltk_data]    |     /root/nltk_data...\n",
            "[nltk_data]    | Downloading package spanish_grammars to\n",
            "[nltk_data]    |     /root/nltk_data...\n",
            "[nltk_data]    |   Unzipping grammars/spanish_grammars.zip.\n",
            "[nltk_data]    | Downloading package state_union to /root/nltk_data...\n",
            "[nltk_data]    |   Unzipping corpora/state_union.zip.\n",
            "[nltk_data]    | Downloading package stopwords to /root/nltk_data...\n",
            "[nltk_data]    |   Unzipping corpora/stopwords.zip.\n",
            "[nltk_data]    | Downloading package subjectivity to\n",
            "[nltk_data]    |     /root/nltk_data...\n",
            "[nltk_data]    |   Unzipping corpora/subjectivity.zip.\n",
            "[nltk_data]    | Downloading package swadesh to /root/nltk_data...\n",
            "[nltk_data]    |   Unzipping corpora/swadesh.zip.\n",
            "[nltk_data]    | Downloading package switchboard to /root/nltk_data...\n",
            "[nltk_data]    |   Unzipping corpora/switchboard.zip.\n",
            "[nltk_data]    | Downloading package tagsets to /root/nltk_data...\n",
            "[nltk_data]    |   Unzipping help/tagsets.zip.\n",
            "[nltk_data]    | Downloading package timit to /root/nltk_data...\n",
            "[nltk_data]    |   Unzipping corpora/timit.zip.\n",
            "[nltk_data]    | Downloading package toolbox to /root/nltk_data...\n",
            "[nltk_data]    |   Unzipping corpora/toolbox.zip.\n",
            "[nltk_data]    | Downloading package treebank to /root/nltk_data...\n",
            "[nltk_data]    |   Unzipping corpora/treebank.zip.\n",
            "[nltk_data]    | Downloading package twitter_samples to\n",
            "[nltk_data]    |     /root/nltk_data...\n",
            "[nltk_data]    |   Unzipping corpora/twitter_samples.zip.\n",
            "[nltk_data]    | Downloading package udhr to /root/nltk_data...\n",
            "[nltk_data]    |   Unzipping corpora/udhr.zip.\n",
            "[nltk_data]    | Downloading package udhr2 to /root/nltk_data...\n",
            "[nltk_data]    |   Unzipping corpora/udhr2.zip.\n",
            "[nltk_data]    | Downloading package unicode_samples to\n",
            "[nltk_data]    |     /root/nltk_data...\n",
            "[nltk_data]    |   Unzipping corpora/unicode_samples.zip.\n",
            "[nltk_data]    | Downloading package universal_tagset to\n",
            "[nltk_data]    |     /root/nltk_data...\n",
            "[nltk_data]    |   Unzipping taggers/universal_tagset.zip.\n",
            "[nltk_data]    | Downloading package universal_treebanks_v20 to\n",
            "[nltk_data]    |     /root/nltk_data...\n",
            "[nltk_data]    | Downloading package vader_lexicon to\n",
            "[nltk_data]    |     /root/nltk_data...\n",
            "[nltk_data]    | Downloading package verbnet to /root/nltk_data...\n",
            "[nltk_data]    |   Unzipping corpora/verbnet.zip.\n",
            "[nltk_data]    | Downloading package verbnet3 to /root/nltk_data...\n",
            "[nltk_data]    |   Unzipping corpora/verbnet3.zip.\n",
            "[nltk_data]    | Downloading package webtext to /root/nltk_data...\n",
            "[nltk_data]    |   Unzipping corpora/webtext.zip.\n",
            "[nltk_data]    | Downloading package wmt15_eval to /root/nltk_data...\n",
            "[nltk_data]    |   Unzipping models/wmt15_eval.zip.\n",
            "[nltk_data]    | Downloading package word2vec_sample to\n",
            "[nltk_data]    |     /root/nltk_data...\n",
            "[nltk_data]    |   Unzipping models/word2vec_sample.zip.\n",
            "[nltk_data]    | Downloading package wordnet to /root/nltk_data...\n",
            "[nltk_data]    | Downloading package wordnet2021 to /root/nltk_data...\n",
            "[nltk_data]    | Downloading package wordnet2022 to /root/nltk_data...\n",
            "[nltk_data]    |   Unzipping corpora/wordnet2022.zip.\n",
            "[nltk_data]    | Downloading package wordnet31 to /root/nltk_data...\n",
            "[nltk_data]    | Downloading package wordnet_ic to /root/nltk_data...\n",
            "[nltk_data]    |   Unzipping corpora/wordnet_ic.zip.\n",
            "[nltk_data]    | Downloading package words to /root/nltk_data...\n",
            "[nltk_data]    |   Unzipping corpora/words.zip.\n",
            "[nltk_data]    | Downloading package ycoe to /root/nltk_data...\n",
            "[nltk_data]    |   Unzipping corpora/ycoe.zip.\n",
            "[nltk_data]    | \n",
            "[nltk_data]  Done downloading collection all\n"
          ]
        },
        {
          "output_type": "execute_result",
          "data": {
            "text/plain": [
              "True"
            ]
          },
          "metadata": {},
          "execution_count": 1
        }
      ],
      "source": [
        "import tensorflow as tf\n",
        "from tensorflow import keras\n",
        "import pandas as pd\n",
        "import numpy as np\n",
        "import os\n",
        "import matplotlib.pyplot as plt\n",
        "import time\n",
        "import re\n",
        "from nltk.tokenize import word_tokenize\n",
        "from nltk.corpus import stopwords\n",
        "from nltk.stem import WordNetLemmatizer\n",
        "import nltk\n",
        "nltk.download('all')"
      ]
    },
    {
      "cell_type": "code",
      "source": [
        "import tensorflow as tf"
      ],
      "metadata": {
        "id": "SsBVN_x6sUXd"
      },
      "execution_count": null,
      "outputs": []
    },
    {
      "cell_type": "markdown",
      "source": [],
      "metadata": {
        "id": "yWUBFMc2RNjT"
      }
    },
    {
      "cell_type": "code",
      "source": [
        "from keras import layers"
      ],
      "metadata": {
        "id": "Y3e3LIi4gl4F"
      },
      "execution_count": null,
      "outputs": []
    },
    {
      "cell_type": "code",
      "source": [
        "import seaborn as sns"
      ],
      "metadata": {
        "id": "Q-pp1KrdBdbj"
      },
      "execution_count": null,
      "outputs": []
    },
    {
      "cell_type": "code",
      "source": [
        "df = pd.read_csv(\"file1.csv\")"
      ],
      "metadata": {
        "id": "VBXr_qOZoiye"
      },
      "execution_count": null,
      "outputs": []
    },
    {
      "cell_type": "code",
      "source": [
        "df2=df"
      ],
      "metadata": {
        "id": "Yf5-b1B4BIlO"
      },
      "execution_count": null,
      "outputs": []
    },
    {
      "cell_type": "code",
      "source": [
        "df"
      ],
      "metadata": {
        "colab": {
          "base_uri": "https://localhost:8080/",
          "height": 424
        },
        "id": "U14gttUbMlRK",
        "outputId": "4630a2b4-b396-4177-9cad-4e775ae30c90"
      },
      "execution_count": null,
      "outputs": [
        {
          "output_type": "execute_result",
          "data": {
            "text/plain": [
              "     type                                            kalimat\n",
              "0       2   Menemukan sesuatu untuk ditonton jika saya bosan\n",
              "1       0  Saya merasa kesulitan menulis suatu karya ilmi...\n",
              "2       0  Menggerakkan bibir dan mengucapkan tulisan di ...\n",
              "3       1  Berkomunikasi dengan menyentuh dan menghargai ...\n",
              "4       2  Rangkullah pendekatan holistik daripada reduks...\n",
              "..    ...                                                ...\n",
              "689     0  Ketika berbelanja pakaian, saya cenderung berd...\n",
              "690     0  Adanya sesi pertanyaan akan dapat memicu mahas...\n",
              "691     0  Merasa kesulitan untuk menulis namun pandai da...\n",
              "692     1  Saya cenderung berkata \"kamu harus mencobanya ...\n",
              "693     1  Jika saya mengajar atau menunjukkan sesuatu ya...\n",
              "\n",
              "[694 rows x 2 columns]"
            ],
            "text/html": [
              "\n",
              "  <div id=\"df-b4d246b3-e291-4d2c-9a64-1215b74beb8a\">\n",
              "    <div class=\"colab-df-container\">\n",
              "      <div>\n",
              "<style scoped>\n",
              "    .dataframe tbody tr th:only-of-type {\n",
              "        vertical-align: middle;\n",
              "    }\n",
              "\n",
              "    .dataframe tbody tr th {\n",
              "        vertical-align: top;\n",
              "    }\n",
              "\n",
              "    .dataframe thead th {\n",
              "        text-align: right;\n",
              "    }\n",
              "</style>\n",
              "<table border=\"1\" class=\"dataframe\">\n",
              "  <thead>\n",
              "    <tr style=\"text-align: right;\">\n",
              "      <th></th>\n",
              "      <th>type</th>\n",
              "      <th>kalimat</th>\n",
              "    </tr>\n",
              "  </thead>\n",
              "  <tbody>\n",
              "    <tr>\n",
              "      <th>0</th>\n",
              "      <td>2</td>\n",
              "      <td>Menemukan sesuatu untuk ditonton jika saya bosan</td>\n",
              "    </tr>\n",
              "    <tr>\n",
              "      <th>1</th>\n",
              "      <td>0</td>\n",
              "      <td>Saya merasa kesulitan menulis suatu karya ilmi...</td>\n",
              "    </tr>\n",
              "    <tr>\n",
              "      <th>2</th>\n",
              "      <td>0</td>\n",
              "      <td>Menggerakkan bibir dan mengucapkan tulisan di ...</td>\n",
              "    </tr>\n",
              "    <tr>\n",
              "      <th>3</th>\n",
              "      <td>1</td>\n",
              "      <td>Berkomunikasi dengan menyentuh dan menghargai ...</td>\n",
              "    </tr>\n",
              "    <tr>\n",
              "      <th>4</th>\n",
              "      <td>2</td>\n",
              "      <td>Rangkullah pendekatan holistik daripada reduks...</td>\n",
              "    </tr>\n",
              "    <tr>\n",
              "      <th>...</th>\n",
              "      <td>...</td>\n",
              "      <td>...</td>\n",
              "    </tr>\n",
              "    <tr>\n",
              "      <th>689</th>\n",
              "      <td>0</td>\n",
              "      <td>Ketika berbelanja pakaian, saya cenderung berd...</td>\n",
              "    </tr>\n",
              "    <tr>\n",
              "      <th>690</th>\n",
              "      <td>0</td>\n",
              "      <td>Adanya sesi pertanyaan akan dapat memicu mahas...</td>\n",
              "    </tr>\n",
              "    <tr>\n",
              "      <th>691</th>\n",
              "      <td>0</td>\n",
              "      <td>Merasa kesulitan untuk menulis namun pandai da...</td>\n",
              "    </tr>\n",
              "    <tr>\n",
              "      <th>692</th>\n",
              "      <td>1</td>\n",
              "      <td>Saya cenderung berkata \"kamu harus mencobanya ...</td>\n",
              "    </tr>\n",
              "    <tr>\n",
              "      <th>693</th>\n",
              "      <td>1</td>\n",
              "      <td>Jika saya mengajar atau menunjukkan sesuatu ya...</td>\n",
              "    </tr>\n",
              "  </tbody>\n",
              "</table>\n",
              "<p>694 rows × 2 columns</p>\n",
              "</div>\n",
              "      <button class=\"colab-df-convert\" onclick=\"convertToInteractive('df-b4d246b3-e291-4d2c-9a64-1215b74beb8a')\"\n",
              "              title=\"Convert this dataframe to an interactive table.\"\n",
              "              style=\"display:none;\">\n",
              "        \n",
              "  <svg xmlns=\"http://www.w3.org/2000/svg\" height=\"24px\"viewBox=\"0 0 24 24\"\n",
              "       width=\"24px\">\n",
              "    <path d=\"M0 0h24v24H0V0z\" fill=\"none\"/>\n",
              "    <path d=\"M18.56 5.44l.94 2.06.94-2.06 2.06-.94-2.06-.94-.94-2.06-.94 2.06-2.06.94zm-11 1L8.5 8.5l.94-2.06 2.06-.94-2.06-.94L8.5 2.5l-.94 2.06-2.06.94zm10 10l.94 2.06.94-2.06 2.06-.94-2.06-.94-.94-2.06-.94 2.06-2.06.94z\"/><path d=\"M17.41 7.96l-1.37-1.37c-.4-.4-.92-.59-1.43-.59-.52 0-1.04.2-1.43.59L10.3 9.45l-7.72 7.72c-.78.78-.78 2.05 0 2.83L4 21.41c.39.39.9.59 1.41.59.51 0 1.02-.2 1.41-.59l7.78-7.78 2.81-2.81c.8-.78.8-2.07 0-2.86zM5.41 20L4 18.59l7.72-7.72 1.47 1.35L5.41 20z\"/>\n",
              "  </svg>\n",
              "      </button>\n",
              "      \n",
              "  <style>\n",
              "    .colab-df-container {\n",
              "      display:flex;\n",
              "      flex-wrap:wrap;\n",
              "      gap: 12px;\n",
              "    }\n",
              "\n",
              "    .colab-df-convert {\n",
              "      background-color: #E8F0FE;\n",
              "      border: none;\n",
              "      border-radius: 50%;\n",
              "      cursor: pointer;\n",
              "      display: none;\n",
              "      fill: #1967D2;\n",
              "      height: 32px;\n",
              "      padding: 0 0 0 0;\n",
              "      width: 32px;\n",
              "    }\n",
              "\n",
              "    .colab-df-convert:hover {\n",
              "      background-color: #E2EBFA;\n",
              "      box-shadow: 0px 1px 2px rgba(60, 64, 67, 0.3), 0px 1px 3px 1px rgba(60, 64, 67, 0.15);\n",
              "      fill: #174EA6;\n",
              "    }\n",
              "\n",
              "    [theme=dark] .colab-df-convert {\n",
              "      background-color: #3B4455;\n",
              "      fill: #D2E3FC;\n",
              "    }\n",
              "\n",
              "    [theme=dark] .colab-df-convert:hover {\n",
              "      background-color: #434B5C;\n",
              "      box-shadow: 0px 1px 3px 1px rgba(0, 0, 0, 0.15);\n",
              "      filter: drop-shadow(0px 1px 2px rgba(0, 0, 0, 0.3));\n",
              "      fill: #FFFFFF;\n",
              "    }\n",
              "  </style>\n",
              "\n",
              "      <script>\n",
              "        const buttonEl =\n",
              "          document.querySelector('#df-b4d246b3-e291-4d2c-9a64-1215b74beb8a button.colab-df-convert');\n",
              "        buttonEl.style.display =\n",
              "          google.colab.kernel.accessAllowed ? 'block' : 'none';\n",
              "\n",
              "        async function convertToInteractive(key) {\n",
              "          const element = document.querySelector('#df-b4d246b3-e291-4d2c-9a64-1215b74beb8a');\n",
              "          const dataTable =\n",
              "            await google.colab.kernel.invokeFunction('convertToInteractive',\n",
              "                                                     [key], {});\n",
              "          if (!dataTable) return;\n",
              "\n",
              "          const docLinkHtml = 'Like what you see? Visit the ' +\n",
              "            '<a target=\"_blank\" href=https://colab.research.google.com/notebooks/data_table.ipynb>data table notebook</a>'\n",
              "            + ' to learn more about interactive tables.';\n",
              "          element.innerHTML = '';\n",
              "          dataTable['output_type'] = 'display_data';\n",
              "          await google.colab.output.renderOutput(dataTable, element);\n",
              "          const docLink = document.createElement('div');\n",
              "          docLink.innerHTML = docLinkHtml;\n",
              "          element.appendChild(docLink);\n",
              "        }\n",
              "      </script>\n",
              "    </div>\n",
              "  </div>\n",
              "  "
            ]
          },
          "metadata": {},
          "execution_count": 7
        }
      ]
    },
    {
      "cell_type": "code",
      "source": [],
      "metadata": {
        "id": "09Bef3GY-5V8"
      },
      "execution_count": null,
      "outputs": []
    },
    {
      "cell_type": "markdown",
      "source": [
        "#EDA"
      ],
      "metadata": {
        "id": "dSZw0puHNzMP"
      }
    },
    {
      "cell_type": "code",
      "source": [
        "def add_histogram_values(ax): [ax.bar_label(remove_0_tags_for_histograms(b)) for b in ax.containers]\n",
        "def remove_0_tags_for_histograms(ax_container):\n",
        "    ind = np.where(ax_container.datavalues>0)[0]\n",
        "    ax_container.datavalues = ax_container.datavalues[ind]\n",
        "    ax_container.patches = [ax_container.patches[i] for i in ind]\n",
        "    return ax_container"
      ],
      "metadata": {
        "id": "7K2ULTqvaKW2"
      },
      "execution_count": null,
      "outputs": []
    },
    {
      "cell_type": "code",
      "source": [
        "print('Number of articles per topic:')\n",
        "fig, ax = plt.subplots(figsize=(8, 5))\n",
        "ax2 = sns.histplot(\n",
        "    data = df,\n",
        "    x = 'type',\n",
        "    hue = 'type',\n",
        "    palette = 'colorblind',\n",
        "    legend = False,\n",
        "    ).set(\n",
        "        title = 'Category Counts');\n",
        "add_histogram_values(ax)"
      ],
      "metadata": {
        "colab": {
          "base_uri": "https://localhost:8080/"
        },
        "id": "j8WHa4ELC07b",
        "outputId": "75bb3170-c58d-4926-ec3c-b286035aaf03"
      },
      "execution_count": null,
      "outputs": [
        {
          "output_type": "stream",
          "name": "stdout",
          "text": [
            "Number of articles per topic:\n"
          ]
        },
        {
          "output_type": "display_data",
          "data": {
            "text/plain": [
              "<Figure size 800x500 with 1 Axes>"
            ],
            "image/png": "[encoded data removed]"
          },
          "metadata": {}
        }
      ]
    },
    {
      "cell_type": "code",
      "source": [
        "df.info()"
      ],
      "metadata": {
        "colab": {
          "base_uri": "https://localhost:8080/"
        },
        "id": "fSnzNRWkAGeT",
        "outputId": "54d6997e-d2a8-4893-d739-3bd64635de5c"
      },
      "execution_count": null,
      "outputs": [
        {
          "output_type": "stream",
          "name": "stdout",
          "text": [
            "<class 'pandas.core.frame.DataFrame'>\n",
            "RangeIndex: 694 entries, 0 to 693\n",
            "Data columns (total 2 columns):\n",
            " #   Column   Non-Null Count  Dtype \n",
            "---  ------   --------------  ----- \n",
            " 0   type     694 non-null    int64 \n",
            " 1   kalimat  694 non-null    object\n",
            "dtypes: int64(1), object(1)\n",
            "memory usage: 11.0+ KB\n"
          ]
        }
      ]
    },
    {
      "cell_type": "code",
      "source": [
        "pd.DataFrame(df['kalimat'].value_counts())"
      ],
      "metadata": {
        "colab": {
          "base_uri": "https://localhost:8080/"
        },
        "id": "UvY2qyWXCnRG",
        "outputId": "e9ee62ba-24e3-489a-cde4-fa8f4a536a8d"
      },
      "execution_count": null,
      "outputs": [
        {
          "output_type": "execute_result",
          "data": {
            "text/plain": [
              "                                                    kalimat\n",
              "Ingatan pertama saya adalah melakukan sesuatu.            3\n",
              "Jika saya mengajar atau menunjukkan sesuatu yan...        3\n",
              "Saya mengingat hal-hal terbaik dengan mengataka...        3\n",
              "Jika saya harus mengeluh tentang barang yang ru...        3\n",
              "Ingatan pertama saya yaitu saat melihat sesuatu.          3\n",
              "...                                                     ...\n",
              "Saya senang mempelajari tabel dan grafik                  1\n",
              "Kemungkinan besar saya akan merasa terdorong un...        1\n",
              "Duduk di mana saja yang penting saya bisa mende...        1\n",
              "Saya memegang benda di tangan saya selama perio...        1\n",
              "Saya cenderung berkata \"kamu harus mencobanya s...        1\n",
              "\n",
              "[660 rows x 1 columns]"
            ],
            "text/html": [
              "\n",
              "  <div id=\"df-ff66bcde-8c1e-48cc-ae48-33cb4974d6d7\">\n",
              "    <div class=\"colab-df-container\">\n",
              "      <div>\n",
              "<style scoped>\n",
              "    .dataframe tbody tr th:only-of-type {\n",
              "        vertical-align: middle;\n",
              "    }\n",
              "\n",
              "    .dataframe tbody tr th {\n",
              "        vertical-align: top;\n",
              "    }\n",
              "\n",
              "    .dataframe thead th {\n",
              "        text-align: right;\n",
              "    }\n",
              "</style>\n",
              "<table border=\"1\" class=\"dataframe\">\n",
              "  <thead>\n",
              "    <tr style=\"text-align: right;\">\n",
              "      <th></th>\n",
              "      <th>kalimat</th>\n",
              "    </tr>\n",
              "  </thead>\n",
              "  <tbody>\n",
              "    <tr>\n",
              "      <th>Ingatan pertama saya adalah melakukan sesuatu.</th>\n",
              "      <td>3</td>\n",
              "    </tr>\n",
              "    <tr>\n",
              "      <th>Jika saya mengajar atau menunjukkan sesuatu yang baru kepada seseorang, saya cenderung memberi mereka penjelasan verbal.</th>\n",
              "      <td>3</td>\n",
              "    </tr>\n",
              "    <tr>\n",
              "      <th>Saya mengingat hal-hal terbaik dengan mengatakannya keras-keras atau mengulangi kata-kata dan poin-poin penting di kepala saya</th>\n",
              "      <td>3</td>\n",
              "    </tr>\n",
              "    <tr>\n",
              "      <th>Jika saya harus mengeluh tentang barang yang rusak, saya merasa nyaman untuk mengembalikan barang tersebut ke toko atau mengirimkannya ke kantor pusat</th>\n",
              "      <td>3</td>\n",
              "    </tr>\n",
              "    <tr>\n",
              "      <th>Ingatan pertama saya yaitu saat melihat sesuatu.</th>\n",
              "      <td>3</td>\n",
              "    </tr>\n",
              "    <tr>\n",
              "      <th>...</th>\n",
              "      <td>...</td>\n",
              "    </tr>\n",
              "    <tr>\n",
              "      <th>Saya senang mempelajari tabel dan grafik</th>\n",
              "      <td>1</td>\n",
              "    </tr>\n",
              "    <tr>\n",
              "      <th>Kemungkinan besar saya akan merasa terdorong untuk berbagi informasi ini dengan seseorang.Mengungkapkan antusiasme saya terhadap materi pelajaran melalui komunikasi verbal.</th>\n",
              "      <td>1</td>\n",
              "    </tr>\n",
              "    <tr>\n",
              "      <th>Duduk di mana saja yang penting saya bisa mendengar tetapi tidak perlu memperhatikan apa yang terjadi di depan</th>\n",
              "      <td>1</td>\n",
              "    </tr>\n",
              "    <tr>\n",
              "      <th>Saya memegang benda di tangan saya selama periode belajar.</th>\n",
              "      <td>1</td>\n",
              "    </tr>\n",
              "    <tr>\n",
              "      <th>Saya cenderung berkata \"kamu harus mencobanya sendiri\"</th>\n",
              "      <td>1</td>\n",
              "    </tr>\n",
              "  </tbody>\n",
              "</table>\n",
              "<p>660 rows × 1 columns</p>\n",
              "</div>\n",
              "      <button class=\"colab-df-convert\" onclick=\"convertToInteractive('df-ff66bcde-8c1e-48cc-ae48-33cb4974d6d7')\"\n",
              "              title=\"Convert this dataframe to an interactive table.\"\n",
              "              style=\"display:none;\">\n",
              "        \n",
              "  <svg xmlns=\"http://www.w3.org/2000/svg\" height=\"24px\"viewBox=\"0 0 24 24\"\n",
              "       width=\"24px\">\n",
              "    <path d=\"M0 0h24v24H0V0z\" fill=\"none\"/>\n",
              "    <path d=\"M18.56 5.44l.94 2.06.94-2.06 2.06-.94-2.06-.94-.94-2.06-.94 2.06-2.06.94zm-11 1L8.5 8.5l.94-2.06 2.06-.94-2.06-.94L8.5 2.5l-.94 2.06-2.06.94zm10 10l.94 2.06.94-2.06 2.06-.94-2.06-.94-.94-2.06-.94 2.06-2.06.94z\"/><path d=\"M17.41 7.96l-1.37-1.37c-.4-.4-.92-.59-1.43-.59-.52 0-1.04.2-1.43.59L10.3 9.45l-7.72 7.72c-.78.78-.78 2.05 0 2.83L4 21.41c.39.39.9.59 1.41.59.51 0 1.02-.2 1.41-.59l7.78-7.78 2.81-2.81c.8-.78.8-2.07 0-2.86zM5.41 20L4 18.59l7.72-7.72 1.47 1.35L5.41 20z\"/>\n",
              "  </svg>\n",
              "      </button>\n",
              "      \n",
              "  <style>\n",
              "    .colab-df-container {\n",
              "      display:flex;\n",
              "      flex-wrap:wrap;\n",
              "      gap: 12px;\n",
              "    }\n",
              "\n",
              "    .colab-df-convert {\n",
              "      background-color: #E8F0FE;\n",
              "      border: none;\n",
              "      border-radius: 50%;\n",
              "      cursor: pointer;\n",
              "      display: none;\n",
              "      fill: #1967D2;\n",
              "      height: 32px;\n",
              "      padding: 0 0 0 0;\n",
              "      width: 32px;\n",
              "    }\n",
              "\n",
              "    .colab-df-convert:hover {\n",
              "      background-color: #E2EBFA;\n",
              "      box-shadow: 0px 1px 2px rgba(60, 64, 67, 0.3), 0px 1px 3px 1px rgba(60, 64, 67, 0.15);\n",
              "      fill: #174EA6;\n",
              "    }\n",
              "\n",
              "    [theme=dark] .colab-df-convert {\n",
              "      background-color: #3B4455;\n",
              "      fill: #D2E3FC;\n",
              "    }\n",
              "\n",
              "    [theme=dark] .colab-df-convert:hover {\n",
              "      background-color: #434B5C;\n",
              "      box-shadow: 0px 1px 3px 1px rgba(0, 0, 0, 0.15);\n",
              "      filter: drop-shadow(0px 1px 2px rgba(0, 0, 0, 0.3));\n",
              "      fill: #FFFFFF;\n",
              "    }\n",
              "  </style>\n",
              "\n",
              "      <script>\n",
              "        const buttonEl =\n",
              "          document.querySelector('#df-ff66bcde-8c1e-48cc-ae48-33cb4974d6d7 button.colab-df-convert');\n",
              "        buttonEl.style.display =\n",
              "          google.colab.kernel.accessAllowed ? 'block' : 'none';\n",
              "\n",
              "        async function convertToInteractive(key) {\n",
              "          const element = document.querySelector('#df-ff66bcde-8c1e-48cc-ae48-33cb4974d6d7');\n",
              "          const dataTable =\n",
              "            await google.colab.kernel.invokeFunction('convertToInteractive',\n",
              "                                                     [key], {});\n",
              "          if (!dataTable) return;\n",
              "\n",
              "          const docLinkHtml = 'Like what you see? Visit the ' +\n",
              "            '<a target=\"_blank\" href=https://colab.research.google.com/notebooks/data_table.ipynb>data table notebook</a>'\n",
              "            + ' to learn more about interactive tables.';\n",
              "          element.innerHTML = '';\n",
              "          dataTable['output_type'] = 'display_data';\n",
              "          await google.colab.output.renderOutput(dataTable, element);\n",
              "          const docLink = document.createElement('div');\n",
              "          docLink.innerHTML = docLinkHtml;\n",
              "          element.appendChild(docLink);\n",
              "        }\n",
              "      </script>\n",
              "    </div>\n",
              "  </div>\n",
              "  "
            ]
          },
          "metadata": {},
          "execution_count": 11
        }
      ]
    },
    {
      "cell_type": "code",
      "source": [
        "df2['text multiplicity'] = df.groupby('kalimat')['kalimat'].transform('count').astype(str)\n",
        "\n",
        "print('What categories contain most of the repeated Text?')\n",
        "fig, ax = plt.subplots(ncols=2,figsize=(18, 5))\n",
        "# Histogram showing repeated text multiplicity in training dataframe\n",
        "ax2 = sns.histplot(\n",
        "    ax = ax[0],\n",
        "    data = df2,\n",
        "    x='text multiplicity',\n",
        "    palette = 'colorblind',\n",
        "    multiple = 'dodge',\n",
        "    legend = True,\n",
        "    ).set(\n",
        "        title = 'Multiplicity of text in articles');\n",
        "add_histogram_values(ax[0])\n",
        "# Same histogram, by Category\n",
        "ax2 = sns.histplot(\n",
        "    ax = ax[1],\n",
        "    data = df2,\n",
        "    x='text multiplicity',\n",
        "    hue = 'type',\n",
        "    palette = 'colorblind',\n",
        "    multiple = 'dodge',\n",
        "    legend = True,\n",
        "    ).set(\n",
        "        title = 'Multiplicity of text in articles by category');\n",
        "add_histogram_values(ax[1])"
      ],
      "metadata": {
        "colab": {
          "base_uri": "https://localhost:8080/"
        },
        "id": "EuRCEUOdN1g0",
        "outputId": "0eaba04c-5c09-4263-f878-1096acadf62f"
      },
      "execution_count": null,
      "outputs": [
        {
          "output_type": "stream",
          "name": "stdout",
          "text": [
            "What categories contain most of the repeated Text?\n"
          ]
        },
        {
          "output_type": "stream",
          "name": "stderr",
          "text": [
            "<ipython-input-12-2b28dad40c2b>:6: UserWarning: Ignoring `palette` because no `hue` variable has been assigned.\n",
            "  ax2 = sns.histplot(\n"
          ]
        },
        {
          "output_type": "display_data",
          "data": {
            "text/plain": [
              "<Figure size 1800x500 with 2 Axes>"
            ],
            "image/png": "[encoded data removed]"
          },
          "metadata": {}
        }
      ]
    },
    {
      "cell_type": "code",
      "source": [
        "df2 = df2.drop_duplicates(subset=['kalimat'])\n",
        "print('Number of articles per topic (without duplicates):')\n",
        "fig, ax = plt.subplots(figsize=(8, 5))\n",
        "ax2 = sns.histplot(\n",
        "    data = df2,\n",
        "    x = 'type',\n",
        "    hue = 'type',\n",
        "    palette = 'colorblind',\n",
        "    legend = False,\n",
        "    ).set(\n",
        "        title = 'Category Counts (without duplicates)');\n",
        "add_histogram_values(ax)"
      ],
      "metadata": {
        "colab": {
          "base_uri": "https://localhost:8080/"
        },
        "id": "YnDHYQnsCWke",
        "outputId": "80ed69d8-246d-40e9-ceec-db2cb7a9c651"
      },
      "execution_count": null,
      "outputs": [
        {
          "output_type": "stream",
          "name": "stdout",
          "text": [
            "Number of articles per topic (without duplicates):\n"
          ]
        },
        {
          "output_type": "display_data",
          "data": {
            "text/plain": [
              "<Figure size 800x500 with 1 Axes>"
            ],
            "image/png": "[encoded data removed]"
          },
          "metadata": {}
        }
      ]
    },
    {
      "cell_type": "code",
      "source": [
        "df['type'].hist()"
      ],
      "metadata": {
        "colab": {
          "base_uri": "https://localhost:8080/"
        },
        "id": "lVwmPVCE-n5S",
        "outputId": "8d4223c4-e276-4ec8-a33c-d9093b5d114e"
      },
      "execution_count": null,
      "outputs": [
        {
          "output_type": "execute_result",
          "data": {
            "text/plain": [
              "<Axes: >"
            ]
          },
          "metadata": {},
          "execution_count": 14
        },
        {
          "output_type": "display_data",
          "data": {
            "text/plain": [
              "<Figure size 640x480 with 1 Axes>"
            ],
            "image/png": "[encoded data removed]"
          },
          "metadata": {}
        }
      ]
    },
    {
      "cell_type": "markdown",
      "source": [
        "#Cleaning"
      ],
      "metadata": {
        "id": "wA1eAhR3DunR"
      }
    },
    {
      "cell_type": "code",
      "source": [
        "STOPWORD = set(stopwords.words('indonesian'))\n",
        "\n",
        "\n",
        " #remove special character n symbol\n",
        "special_character_remover = re.compile('[/(){}\\[\\]\\|@,;]')\n",
        "extra_symbol_remover = re.compile('[^0-9a-z #+_]')\n",
        "def clean_text(text):\n",
        "    text = text.lower()\n",
        "    text = special_character_remover.sub(' ', text)\n",
        "    text = extra_symbol_remover.sub('', text)\n",
        "    print(text)\n",
        "    text = ' '.join(word for word in text.split() if word not in STOPWORD)\n",
        "\n",
        "    return text\n",
        "df['kalimat'] = df['kalimat'].apply(clean_text)"
      ],
      "metadata": {
        "colab": {
          "base_uri": "https://localhost:8080/"
        },
        "id": "n5eUH6dlDttJ",
        "outputId": "d658c3a3-db1d-4aa6-d32b-a319d29f5ec0"
      },
      "execution_count": null,
      "outputs": [
        {
          "output_type": "stream",
          "name": "stdout",
          "text": [
            "menemukan sesuatu untuk ditonton jika saya bosan\n",
            "saya merasa kesulitan menulis suatu karya ilmiah tetapi saya pandai berpidato\n",
            "menggerakkan bibir dan mengucapkan tulisan di buku saat membaca\n",
            "berkomunikasi dengan menyentuh dan menghargai dorongan yang diungkapkan secara fisik  seperti tepukan\n",
            "rangkullah pendekatan holistik daripada reduksionis  berusaha memahami seluruh konteks dan hubungan dalam topik\n",
            "menyenangi tempat yang sunyi dan tenang untuk belajar\n",
            "saat saya berupaya memecahkan masalah  saya membuat model dari masalah tersebut atau menjalani semua langkah dalam pikiran saya\n",
            "memperluas catatan saya dengan berbicara dengan orang lain  dan mengumpulkan catatan dari materi\n",
            "ketika saya mengajari seseorang hal yang baru  saya cenderung menulis instruksi untuk dia\n",
            "jika saya menjelaskan kepada seseorang  saya cenderung menunjukkan kepada mereka apa yang saya maksud\n",
            "saat saya berupaya memecahkan masalah  saya lebih suka untuk melakukan beberapa panggilan telepon dan berbicara dengan teman atau pakar\n",
            "saya mempelajari ejaan katakata dengan finger spelling katakata tersebut\n",
            "memanfaatkan alat bantu visual seperti pameran  sampel  foto  video  dan iklan tv untuk meningkatkan pemahaman dan keterlibatan dengan informasi\n",
            "ketika mengoprasikan peralatan baru  saya biasanya mendengarkan penjelasan dari orang yang pernah menggunakan peralatan tersebut\n",
            "saat saya mempelajari keterampilan baru  saya paling nyaman mencobanya sendiri  dan menyelesaikannya sambil jalan\n",
            "lebih suka gurauan lisan\n",
            "tingkatkan pemahaman dan retensi dengan membaca cerita  tugas  atau arahan dengan lantang  melibatkan pemrosesan pendengaran dan verbal\n",
            "saya senang bekerja dengan tangan saya atau membuat sesuatu\n",
            "menginjak dan membanting pintu atau melampiaskannya kepada barang adalah hal yang paling mungkin yang saya lakukan saat saya marah\n",
            "melihat poster yang mengiklankan film lain merupakan hal yang paling mungkin dilakukan saat mengantri di bioskop\n",
            "ketika memasak menu baru  saya lebih suka mengikuti insting atau cobacoba sampai berhasil\n",
            "ketika saya berbicaram sering dengan intonasi berirama\n",
            "cara bicara saya cepat dan senang mendengarkan orang lain berbicara\n",
            "saya bermain dengan koin atau kunci di saku saya\n",
            "menonton tv atau film\n",
            "sering menjawab pertanyaan dengan jawaban singkat  ya atau tidak \n",
            "hal yang paling mungkin yang saya lakukan saat mengantri di bioskop yaitu berbicara dengan orang di sebelah saya\n",
            "jika saya mengajar atau menunjukkan sesuatu yang baru kepada seseorang  saya cenderung mendemonstrasikannya terlebih dahulu  lalu membiarkan mereka mencobanya\n",
            "suka melihat apa yang dipelajari\n",
            "mencoretcoret kertas\n",
            "jika saya memilih makanan dari menu  saya cenderung membayangkan seperti apa makanan itu nantinya\n",
            "saya cenderung mengatakan bahwa saya mengerti maksud anda\n",
            "tersenyum lebar adalah hal yang paling mungkin yang saya lakukan ketika saya bahagia\n",
            "ketika saya hendak memilih makanan yang tertera di daftar menu  saya cenderung membayangkan seperti apa tampilan makanan itu ketikan dihidangkan\n",
            "setelah saya membaca sesuatu  rangkum dan ucapkan dengan lantang\n",
            "apakah anda mengerti konsep dasarnya\n",
            "ketika saya belajar untuk ujian  saya lebih suka seseorang mengajukan pertanyaan  atau mengulangi fakta secara diamdiam kepada diri sendiri\n",
            "merasa tidak nyaman di ruang kelas di mana saya kekurangan kesempatan untuk pengalaman langsung\n",
            "saya lebih senang mendengar kuliah atau ceramah daripada membaca tentang materi yang sama dari buku ajar  textbook \n",
            "mempelajari strategi yang tepat\n",
            "saya merasa cocok dan dekat dengan orang lain karena apa yang mereka katakan pada saya\n",
            "senang belajar melalui praktik\n",
            "sering memejamkan mata untuk memvisualisasikan atau mengingat sesuatu\n",
            "lebih cenderung rapi dan teratur\n",
            "saya mempunyai lagu khusus yang membangkitkan semangat untuk belajar\n",
            "sensitif terhadap stimuli visual dan mudah terganggu bila ada gangguan visual\n",
            "saya banyak bicara  suka berdiskusi dan menjelaskan panjang lebar\n",
            "menghafal dengan cara berjalan dan melihat\n",
            "mengubah catatan atau informasi yang saya terima menjadi paket yang dapat dipelajari dengan memadatkannya menjadi gambar\n",
            "hal yang saya ingat jika bertemu kembali dengan seseorang yaitu ingat dengan semua yang dia kerjakan\n",
            "manfaatkan resep atau solusi yang sudah terbukti benar dari pengalaman atau aplikasi sebelumnya sebagai panduan untuk memecahkan masalah atau mengatasi tantangan secara efektif\n",
            "jenis seni yang paling saya suka yaitu seni musik\n",
            "mengingat melalui mendengar\n",
            "manfaatkan kartu flash untuk mempelajari katakata baru dan memperkuat pembelajaran auditori dengan membacanya keraskeras\n",
            "saat bahagia  senyuman lebar akan ditunjukkan oleh saya\n",
            "menggunakan penyorot warna yang berbeda untuk menandai atau mengkategorikan bagian teks tertentu secara selektif  membuatnya lebih mudah untuk mengidentifikasi poinpoin penting\n",
            "terlibat dalam diskusi tentang apa yang telah saya pelajari dari sumber media dengan seseorang yang juga memiliki gaya belajar kinestetik\n",
            "menggunakan alat bantu visual untuk menjelaskan konsep tersebut kepada orang lain\n",
            "meningkatkan pemahaman dengan menjelaskan ideide baru kepada orang lain sambil menggunakan perekam untuk menangkap contoh  cerita  atau lelucon menarik yang dapat membantu mengingat dan memperkuat informasi\n",
            "saya mempunyai sekelompok teman untuk belajar kelompok\n",
            "saat saya cemas  saya memvisualisasikan skenario terburuk\n",
            "sensasi lain seperti  lapar  sepatu ketat  atau khawatir adalah hal yang paling mengganggu saya saat saya mencoba untuk berkonsentrasi\n",
            "senang berpidato presentasi\n",
            "ingat dengan mengucapkan pelajaran kepada diri saya sendiri  jika tidak  mereka mengalami kesulitan membaca peta atau diagram atau menangani tugas konseptual seperti matematika \n",
            "saya mengingat halhal terbaik dengan mengatakannya keraskeras atau mengulangi katakata dan poinpoin penting di kepala saya\n",
            "cara belajar dengan mendengar\n",
            "saya mendengar apa yang kamu katakan\n",
            "saya senang mengisi waktu luang dengan bermain game  dan segala sesuatu yang menggerakkan tangan\n",
            "saya menikmati waktu luang dengan pergi ke mall  cafe  atau tempat rekreasi\n",
            "jika saya harus mengeluh tentang barang yang rusak  saya paling nyaman menulis surat\n",
            "saya sangat menyukai menonton film  fotofoto  barang seni\n",
            "belajar dengan mendengarkan dan mengingat apa yang didiskusikan daripada yang dilihat\n",
            "jika makanan dipilih dari menu oleh saya  seperti apa makanan itu nantinya akan cenderung dibayangkan oleh saya\n",
            "senang belajar di laboratorium dan akan cepat paham jika sudah melakukan\n",
            "bersenandung atau berbicara sendiri atau orang lain saat bosan\n",
            "tertarik pada bahasa tertulis atau lisan yang kaya akan citra\n",
            "skenario terburuk akan divisualisasikan oleh saya saat cemas\n",
            "mengingat kembali gambaran mental dari catatan  brosur  atau surat langsung untuk mendapatkan detail dan konsep yang relevan\n",
            "cara belajar dengan membaca\n",
            "saya lebih menyukai musik daripada seni rupa\n",
            "untuk mempercepat membaca  tipe ini harus mengingat detail kata dan angka yang dibaca\n",
            "saya senang belajar dengan cara mendengarkan teman yang sedang membaca keraskeras\n",
            "memberikan kebebasan bergerak saat mempelajari materi\n",
            "banyak menggunakan isyarat tubuh\n",
            "lebih mudah mempelajari dengan membaca buku dan catatan yang diberikan secara jelas dan rapi\n",
            "ketika pertama kali menghubungi orang baru  saya biasanya berbicara lewat telepon\n",
            "ketika saya belajar untuk ujian  saya biasanya membaca catatan sendiri  atau berdiskusi dengan orang lain\n",
            "mungkin tidak cocok dengan warna atau pakaian  tetapi dapat menjelaskan mengapa saya mengenakan apa yang saya kenakan dan mengapa\n",
            "mendiskusikan atau merekam prestasi yang telah dicapai\n",
            "saya lebih senang menggunakan poster  alat peraga atau praktek langsung dan aktivitas lainnya dalam kelas\n",
            "ketika guru mengajar di kelas  saya selalu mendengarkan dengan seksama\n",
            "saya senang membaca ringkasan buku terlebih dahulu sebelum membaca lebih detail\n",
            "ketika mengoprasikan peralatan baru  saya biasanya membaca buku petunjuk\n",
            "berpartisipasi dalam aktivitas yang melibatkan menyentuh  membangun  bergerak  atau menggambar\n",
            "ketika saya mendengarkan sebuah band  saya tidak dapat menahan diri untuk tidak melihat anggota band dan penonton lainnya\n",
            "saat menjelaskan dan mengajarkan sesuatu kepada orang lain saya cenderung dengan cara menceritakannya terlebih dahulu\n",
            "dalam pekerjaan  saya adalah perencana dan pengatur jangka panjang yang baik\n",
            "ingatan pertama saya adalah melakukan sesuatu\n",
            "saat saya marah  saya berteriak atau meledak\n",
            "ketika mengoprasikan peralatan baru  saya biasanya langsung mencoba  karena saya baru mengerti ketika menggunakannya\n",
            "ketika berbelanja pakaian  saya cenderung langsung mencoba baju yang disukai\n",
            "ketika saya berkonsentrasi  saya paling sering bergerak  mengutakatik pulpen dan pensil  dan menyentuh benda\n",
            "ketika saya berkonsentrasi  saya paling sering fokus pada katakata atau gambar di depan saya\n",
            "mengetuk kaki saya atau bergerak dengan cara lain saat mengantri di bioskop adalah hal yang saya lakukan\n",
            "dapat belajar baik dengan diiringi musik maupun tidak  karena saya tidak terlalu peduli dengan stimuli auditori di sekeliling\n",
            "perlu mengingat setiap detail  menulis pointpoint yang penting  membuat gambaran sekilas pada materi yang akan atau sudah dipelajari\n",
            "duduk di ruang kuliah atau ruang kelas di mana saya dapat mendengar dengan baik  paling sering di dekat bagian depan \n",
            "senang belajar dengan alat bantu untuk mendemonstrasikan semakin banyak melakukannya  semakin banyak belajar\n",
            "saya dapat menyebutkan jika suatu suara cocok dengan suara lainnya bila ditampilkan bersamaan\n",
            "sambil mencoretcoret kertas\n",
            "lebih menempatkan pendengaran sebagai alat utama menyerap informasi atau pengetahuan\n",
            "menghubungkan materi dengan irama musik\n",
            "ketika saya mendengarkan sebuah band  saya lebih fokus mendengarkan lirik dan musiknya\n",
            "saya cenderung berkata dengarkan penjelasan saya\n",
            "merekam catatan ringkasan saya  dan dengarkan\n",
            "ketika saya belajar keahlian baru  saya lebih nyaman jika langsung mencobanya sendiri\n",
            "menjelaskan catatan saya kepada orang lain\n",
            "mementingkan penampilan dalam berpakaian maupun presentasi\n",
            "mendengarkan dengan seksama\n",
            "saya membaca dengan menggunakan jari tangan sebagai petunjuk\n",
            "saya mengisi waktu luang dengan melakukan permainan dan jenis pekerjaan tangan yang lain\n",
            "lebih suka demonstrasi daripada berpidato\n",
            "cara bekerja sambil berbicara dan mampu menirukan perubahan suara\n",
            "saya benarbenar bisa mengerti apa yang anda katakan\n",
            "itu tampak bagus  saya melihatnya dari sudut ini\n",
            "memiliki preferensi untuk pengalaman fisik  menyentuh  merasakan  memegang  melakukan  pengalaman praktis langsung\n",
            "ketika memilih liburan  saya biasanya membaca banyak brosur\n",
            "jika saya menjelaskan kepada seseorang  saya lebih mudah menunjukkan kepada mereka apa yang saya maksud\n",
            "sebagian besar waktu luang saya diisi dengan menonton televisi\n",
            "saya dapat mengetahui suasana hati seseorang dengan hanya melihat ekspresi wajah\n",
            "gagasan itu terus berputarputar di kepala saya\n",
            "cara berkomunikasi senang lewat telepon\n",
            "saya senang ujian lisan daripada ujian tertulis\n",
            "saya dapat memahami sebuah artikel berita dengan lebih baik dengan membacanya di koran atau online daripada dengan mendengarkan laporan tentang artikel tersebut di radio atau internet\n",
            "jika saya harus mengeluh tentang barang yang rusak  saya lebih nyaman untuk mengeluh melalui telepon\n",
            "saya membutuhkan diagram  grafik atau petunjuk arah untuk menjelaskan sesuatu\n",
            "saya mempunyai buku kecil untuk mencatat informasi pesanpesan penting\n",
            "bertindak sangat hiper adalah hal yang paling mungkin yang saya lakukan saat saya bahagia\n",
            "saya bisa secara mudah memahami dan mengikuti petunjuk arah pada peta\n",
            "saya akan langsung mencoba sendiri terlebih dahulu saat menggunakan program komputer yang belum saya kuasai\n",
            "saya mengunyah permen karet  merokok  atau ngemil saat belajar\n",
            "ketika membeli mobil baru  saya mendiskusikan apa yang saya butuhkan dengan teman\n",
            "mempercepat proses belajar dengan alat bantu visual seperti grafik dan gambar\n",
            "saya belajar dengan cara membaca buku\n",
            "saya dapat memahami artikel berita lebih baik dengan cara membacanya daripada mendengarkan berita tersebut di radio\n",
            "membuat banyak simbol dan gambar dalam catatan saya\n",
            "terlibat dalam percakapan dengan seseorang untuk mengartikulasikan dan menjelaskan ideide  memperkuat pemahaman saya melalui komunikasi verbal\n",
            "saya sering membantu penelitia yang dilakukan oleh guru\n",
            "saya sering mengajak guru maupun teman untuk berdiskusi\n",
            "melibatkan semua indera saya  termasuk penglihatan  sentuhan  rasa  penciuman  dan pendengaran  untuk membenamkan diri sepenuhnya dalam pengalaman belajar\n",
            "lupa namanya tapi ingat wajahnya\n",
            "jika saya harus mengeluh tentang barang yang rusak  saya merasa nyaman untuk mengembalikan barang tersebut ke toko atau mengirimkannya ke kantor pusat\n",
            "fakta yang harus dipelajari harus ditulis beberapa kali\n",
            "mempraktikkan permainan peran\n",
            "sering menggunakan frasa seperti beri tahu saya atau mari kita bicarakan\n",
            "cara saya mengerjakan pekerjaan adalah dengan mencari tahu sambil bekerja\n",
            "saya mengikuti petunjuk lisan lebih baik daripada petunjuk tertulis\n",
            "saya senang praktik di laboratorium daripada belajar di kelas\n",
            "hal yang paling mungkin yang saya lakukan saat mengantri di bioskop yaitu melihat poster yang mengiklankan film lain\n",
            "mendengarkan kuliah  contoh  dan cerita serta mengulang informasi\n",
            "mengekspresikan tangan saya dan dengan gerakan\n",
            "membahas soal ulangan bersama\n",
            "saya senang membayangkan sesuatu\n",
            "konsentrasi saya mudah terganggu dengan kegiatan sekeliling\n",
            "berteriak atau meledak adalah hal yang paling mungkin yang saya lakukan saat saya marah\n",
            "terapkan teknik pengkodean warna untuk mengkategorikan dan mengatur informasi  memberikan isyarat visual dan meningkatkan daya ingat\n",
            "membuat gambar alat bantu visual\n",
            "saya sering mengisi waktu luang dengan menonton tv film\n",
            "saya senang untuk menulis atau mencatat sesuatu untuk dapat dilihat ulang\n",
            "ketika memilih liburan  saya biasanya mendengarkan rekomendasi dari teman\n",
            "mengandalkan penjelasan dari guru\n",
            "mudah terganggu oleh keributan\n",
            "hal yang paling mudah mengganggu konsentrasi saya yaitu ketidakteraturan\n",
            "melalui teknik manual dan pedoman instruksional yang dibaca\n",
            "ketika sebuah band didengarkan oleh saya  anggota band dan penonton lainnya tidak dapat tidak dilihat oleh saya\n",
            "di dalam kelas  saya sering duduk di bangku paling depan\n",
            "tipe ini tidak peduli pada simbol dan bahasa yang abstrak\n",
            "senang menggunakan powerpoint\n",
            "saat saya bahagia  saya bertindak sangat hiper\n",
            "ketika saya membutuhkan petunjuk jalan saat bepergian  saya biasanya berjalan sekehendak hati atau menggunakan kompas\n",
            "ketika saya cemas  saya berbicara di kepala saya atau dengan seorang teman tentang apa yang paling membuat saya khawatir\n",
            "saya suka meneliti\n",
            "semuanya tibatiba terasa pas\n",
            "informasi yang saya dengar memiliki nilai lebih besar bagi saya dibandingkan dengan katakata tertulis  karena masukan pendengaran beresonansi lebih kuat\n",
            "harus aktif dan sering istirahat\n",
            "melakukan permainan dan jenis pekerjaan tangan yang lain\n",
            "ketika keterampilan baru dipelajari oleh saya  apa yang dilakukan instruktur akan paling nyaman dilihat oleh saya\n",
            "lupa wajahnya tapi ingat namanya\n",
            "saya akan melihat petunjuk gambar dan diagram yang ada terlebih dahulu saat menggunakan program komputer yang belum saya kuasai\n",
            "ingatan pertama saya yaitu saat melihat sesuatu\n",
            "jika saya mengajarkan atau menunjukkan sesuatu yang baru kepada seseorang  saya cenderung menuliskan instruksi untuk mereka\n",
            "saya mendengarkan orang berbicara sambil menggerakkan jari tangan kaki\n",
            "merekam suara\n",
            "jika saya menjelaskan kepada seseorang  saya lebih nyaman menjelaskan kepada mereka dengan cara yang berbeda sampai mereka mengerti\n",
            "belajar secara  trial and error  eksplorasi dan mencoba menentukan halhal baru\n",
            "menyukai materi dalam bentuk auditori melalui penjelasan dan diskusi\n",
            "cenderung duduk di depan\n",
            "saya belajar dengan cara mendengarkan penjelasan\n",
            "saat berupaya memecahkan masalah  membuat daftar  mengatur langkahlangkah  dan mencentang setelah selesai\n",
            "mengganti kata dengan simbol atau inisial untuk membuat sistem steno yang membantu dalam menghafal dan mengingat\n",
            "saat sesuatu dilihat  itu menjadi ingatan pertama oleh saya\n",
            "jenis seni yang paling saya suka yaitu seni gerak atau olah raga  dll\n",
            "ketika saya berkonsentrasi  saya paling sering bergerak  mengutakatik pulpen dan pensil  dan menyentuh benda\n",
            "belajar dengan gerakan yang tidak terstruktur  imajinatif dan bebas\n",
            "perhatikan dirimu sendiri\n",
            "saya dapat menguasai materi belajar dengan cara mendengarkan atau merekam kuliah pakar\n",
            "lebih memilih rangsangan untuk diisolasi dari gangguan pendengaran dan kinestetik\n",
            "buat catatan dengan menuliskan katakata kunci  ide  atau instruksi  memanfaatkan aspek visual dari katakata tertulis untuk memperkuat pembelajaran\n",
            "ketika memasak menu baru  saya lebih suka membaca resep\n",
            "ketika saya belajar untuk ujian  saya lebih suka menuliskannya di kartu indeks dan membuat model atau diagram\n",
            "ketika memilih liburan  saya biasanya membayangkan akan seperti apa liburan di sana\n",
            "ingatan pertama saya adalah melakukan sesuatu\n",
            "saya sering membaca buku sambil menandai bagian yang penting dengan memberi warna yang mencolok\n",
            "menghafal sambil berjalanjalan\n",
            "melihat kembali sekarang  tampaknya itu berbeda\n",
            "berbicara dengan orang di sebelah saya saat mengantri di bioskop adalah hal yang paling saya sukai\n",
            "di ruang belajar saya terdapat pajangan gambargambar yang berkaitan dengan pelajaran biologi\n",
            "kemungkinan tulisannya jelek\n",
            "sering menciptakan lagu pada beberapa materi pelajarannya\n",
            "saya akan bertanya kepada orang lain terlebih dahulu saat menggunakan program komputer yang belum saya kuasai\n",
            "menyukai belajar melalui gerakan dan paling baik menghafal informasi dengan mengasosiasikan gerakan dengan setiap fakta\n",
            "cara bekerja sambil mencari tahu dan pandai menyusun potongan gambar\n",
            "saat saya marah  saya cemberut\n",
            "kebiasaan saya saat mendengarkan orang lain berbicara yaitu menggerakgerakkan anggota tubuh  misalnya tangan kaki\n",
            "saya menikmati waktu luang dengan mendengarkan musik dan mengobrol dengan teman\n",
            "setelah mendengarkan penjelasan dosen  saya sering membuat peta konsep\n",
            "saat menjelaskan dan mengajarkan sesuatu kepada orang lain saya cenderung dengan cara menunjukkannya terlebih dahulu\n",
            "meningkatkan daya ingat saya dengan mengucapkan dengan lantang apa yang telah saya pelajari atau pesan yang telah saya terima  dengan memanfaatkan penguatan pendengaran\n",
            "mengetuk pensil  menggoyangkan kaki  atau berpegangan pada sesuatu saat belajar\n",
            "senang diberi instruksi lisan melalui telepon  dan dapat mengingat semua kata dari lagu yang saya dengar\n",
            "berteriak dengan gembira adalah hal yang paling mungkin yang saya lakukan saat saya bahagia\n",
            "menyoroti  menggarisbawahi  memberi label informasi  dan menulis menambah gerakan untuk belajar\n",
            "saya senang mempelajari tabel dan grafik\n",
            "saat saya mempelajari keterampilan baru  saya paling nyaman mencobanya sendiri  dan menyelesaikannya sambil jalan\n",
            "jika saya harus mengeluh tentang barang yang rusak  saya merasa nyaman untuk mengembalikan barang tersebut ke toko atau mengirimkannya ke kantor pusat\n",
            "kemungkinan besar saya akan merasa terdorong untuk berbagi informasi ini dengan seseorangmengungkapkan antusiasme saya terhadap materi pelajaran melalui komunikasi verbal\n",
            "duduk di mana saja yang penting saya bisa mendengar tetapi tidak perlu memperhatikan apa yang terjadi di depan\n",
            "saya memegang benda di tangan saya selama periode belajar\n",
            "hubungi diri anda sendiri\n",
            "berlatih memvisualisasikan atau menggambarkan katakata dan konsep dalam pikiran saya\n",
            "saya dapat mengetahui suasana hati seseorang dengan memerhatikan gerakan badan\n",
            "saya menikmati bekerja dengan dengan menggunakan tangan atau membuat sesuatu\n",
            "ketika saya mempelajari keterampilan baru  saya merasa lebih nyaman berbicara dengan instruktur tentang apa yang seharusnya saya lakukan\n",
            "ketika saya belajar untuk ujian  saya lebih suka seseorang mengajukan pertanyaan  atau mengulangi fakta secara diamdiam kepada diri sendiri\n",
            "mengandalkan ceramah dari guru\n",
            "kebiasaan saya saat dalam berbicara yaitu senang mendengarkan pembicaraan panjang\n",
            "saya senang menceritakan saat menjelaskan atau mengajarkan sesuatu\n",
            "saya lebih mudah mengingat sesuatu dengan cara menuliskannya berkalikali\n",
            "saya cenderung mengatakan saya sulit mendengar apa yang anda katakan\n",
            "sangat terjadwal dan disiplin waktu\n",
            "saya merasa sangat nyaman menyentuh pelukan orang lain  berjabat tangan  dll\n",
            "membuat banyak catatan rinci\n",
            "memperkuat pengetahuan dengan menulis jawaban atau catatan ujian  menggunakan katakata tertulis untuk mengartikulasikan dan menjelaskan materi pelajaran\n",
            "meninjau dan proses informasi secara teratur dengan mengunjungi kembali halaman saya  memperkuat pemahaman dan memantapkan pengetahuan dalam pikiran saya\n",
            "saya lebih sering membuat keputusan berdasarkan perasaan\n",
            "saya dapat mengingat dengan baik dengan menuliskan beberapa kali\n",
            "dalam matematika dan ilmu pengetahuan alam  tabel dan grafik akan memperdalam pemahaman saya\n",
            "ketika saya berkonsentrasi  saya biasanya fokus pada katakata atau gambar yang ada di depan saya\n",
            "saya belajar untuk mengeja sesuatu lebih baik dengan mengulang katakata dengan keras daripada menulis katakata tersebut di atas kertas\n",
            "menyerap makna komunikasi verbal dengan cepat\n",
            "ketika mencoba hal yang baru  saya senang langsung mencobanya\n",
            "saat saya mempelajari keterampilan baru  saya paling nyaman melihat apa yang dilakukan instruktur\n",
            "melakukan banyak aktivitas langsung seperti menyelesaikan proyek seni  berjalanjalan  atau memerankan cerita\n",
            "guru yang menggunakan gerak tubuh dan bahasa yang indah dapat menarik perhatian  menyampaikan emosi  dan membuat materi lebih menarik dan berkesan bagi audiens\n",
            "saya lebih suka menghafal dengan mengucapkannya keraskeras\n",
            "saya dapat mengetahui apakah suara cocok ketika disajikan dengan pasangan suara\n",
            "memiliki preferensi untuk melihat atau mengamati halhal  termasuk gambar  diagram  demonstrasi  display  handout  film  flipchart  dll\n",
            "saya memperhatikan orang karena baju dan penampilannya\n",
            "saya dapat mengulang dan menirukan nada  perubahan  dan warna suara\n",
            "ketika saya mempelajari keterampilan baru  saya merasa paling nyaman berbicara dengan instruktur tentang apa yang seharusnya saya lakukan\n",
            "saya memiliki pemahaman yang kuat\n",
            "memilih untuk duduk di dekat bagian depan kelas  memungkinkan visibilitas dan keterlibatan yang lebih baik dengan alat bantu visual tanpa implikasi favoritisme\n",
            "halhal terbaik diingat oleh saya dengan menulis catatan atau menyimpan detail tercetak\n",
            "membaca dengan suara keras  suara pelan atau membaca dalam hati\n",
            "dapat memanfaatkan sesi belajar kelompok di mana anggota meninjau materi kelas\n",
            "senang dan berani mencobacoba\n",
            "saat saya belajar untuk ujian  saya lebih suka membaca catatan  membaca judul buku  dan melihat diagram dan ilustrasi\n",
            "ketika saya mendengarkan sebuah band  saya lebih ingin melihat anggota band dan penonton lainnya\n",
            "saat saya mempelajari keterampilan baru  saya lebih nyaman melihat apa yang dilakukan instruktur\n",
            "ada sesuatu yang menyuruh saya untuk berhatihati\n",
            "gangguan visual sangat menganggu saya ketika saya mencoba untuk berkonsentrasi\n",
            "menggerakgerakkan anggota tubuh  misalnya tangan kaki\n",
            "pahami itu dengan baik\n",
            "saya lebih mudah belajar dengan membaca\n",
            "ketika saya hendak memilih makanan yang tertera di daftar menu  saya cenderung membicarakan pilihan saya dengan teman atau dalam hati\n",
            "memiliki preferensi untuk mentransfer informasi melalui mendengarkan kata yang diucapkan  diri sendiri atau orang lain  suara dan kebisingan\n",
            "ketika saya mengajari seseorang hal yang baru  saya cenderung mendemonstrasikan dan membiarkan dia mencobanya\n",
            "saya selalu bertanya pada orang lain hal yang belum saya pahami\n",
            "berlatih menerjemahkan representasi visual saya kembali ke dalam katakata  memastikan dapat mengomunikasikan informasi secara efektif dalam format visual dan tertulis\n",
            "saya sering membaca buku sebelum dan setelah pelajaran berlangsung\n",
            "sering beristirahat selama periode membaca atau belajar  sering  tetapi tidak lama \n",
            "menantang diri dengan menggambar ulang halaman saya dari memori untuk memperkuat informasi dan menguji pemahaman saya\n",
            "belajar secara trial and error  eksplorasi dan mencoba menentukan halhal baru\n",
            "saya lebih suka melihat informasi tertulis di papan tulis dan dilengkapi dengan alat bantu visual dan bacaan yang ditugaskan\n",
            "jika saya memilih makanan dari menu  saya cenderung membicarakan pilihan di kepala saya atau dengan teman\n",
            "saya memiliki kemampuan dalam menirukan  mengulang nada dan perubahan suara\n",
            "ingatan pertama saya adalah tentang diajak bicara\n",
            "saya mudah mengingat dengan menuliskan berkalikali\n",
            "cara berkomunikasi memperhatikan gerakan badan\n",
            "saat saya belajar untuk ujian  saya lebih suka seseorang mengajukan pertanyaan  atau mengulangi fakta secara diamdiam kepada diri sendiri\n",
            "saat saya bahagia  saya berteriak dengan gembira\n",
            "menggunakan kalimatkalimat yang singkat  dengan diiringi musik atau sound effect  disertai dengan contoh alur pikir  objek nyata atau demonstrasi\n",
            "tidak tahan duduk lamalama atau cepat bosan\n",
            "saya suka berdiskusi masalah pelajaran dengan teman\n",
            "ketika saya mengajari seseorang hal yang baru  saya cenderung memberikan penjelasan\n",
            "saya mengikuti petunjuk secara lisan lebih baik daripada menulisnya\n",
            "saya mengerjakan pekerjaan sambil berbicara dengan orang lain atau berbicara sendiri\n",
            "meningkatkan pemahaman tentang konsep baru dengan menggambar gambar yang mengilustrasikannya\n",
            "senang membaca\n",
            "kebiasaan saya saat mendengarkan orang lain berbicara yaitu mendengarkan dengan seksama\n",
            "saat belajar untuk ujian  catatan dibaca  judul buku dibaca  dan diagram serta ilustrasi yang lebih saya sukai\n",
            "saya menghafal dengan menuliskan informasi berkalikali\n",
            "manfaatkan gambar dan foto untuk mengilustrasikan dan memperkuat ide dan konsep secara visual\n",
            "hal yang paling mudah mengganggu konsentrasi saya yaitu kegiatan di sekeliling\n",
            "saya bingung tentang itu\n",
            "terlibat dalam presentasi atau webinar dan berpartisipasi aktif dalam diskusi dengan orang lain untuk menyerap pengetahuan baru dan mendapatkan perspektif yang berbeda\n",
            "saya lebih mudah mengingat sesuatu yang berupa informasi tertulis apa yang saya lihat daripada apa yang saya dengar\n",
            "menambahkan simbol  warna  dan grafik yang bermakna ke catatan juga memberikan isyarat visual\n",
            "saya senang mendengarkan orang bercerita\n",
            "saya lebih suka belajar dengan praktek dan saat membaca  saya sering menggunakan jari sebagai penunjuk\n",
            "terlibat dalam permainan peran untuk membenamkan diri saya dalam situasi tersebut dan mendapatkan pemahaman yang lebih dalam tentang informasi tersebut\n",
            "jika saya memilih makanan dari menu  saya cenderung membayangkan seperti apa makanan itu nantinya\n",
            "senang belajar dengan membaca\n",
            "saat saya bahagia  saya tersenyum lebar\n",
            "saya belajar mengeja lebih baik dengan mengulangi katakata dengan keras daripada menulis katakata di atas kertas\n",
            "jika saya menjelaskan kepada seseorang  saya cenderung menjelaskan kepada mereka dengan cara yang berbeda sampai mereka mengerti\n",
            "ubah sudut pandangmu\n",
            "menulis semuanya untuk tinjauan yang sering dan efisien\n",
            "mengingat setiap objek yang saya lihat dalam kehidupan nyata\n",
            "mengetuk kaki saya atau bergerak dengan cara lain saat mengantri di bioskop adalah hal yang saya lakukan\n",
            "saya menjelaskan dan mengajar dengan cara menunjukkan suatu hal\n",
            "menghubungkan kata dan angkaangka dengan musik\n",
            "demonstrasi\n",
            "saya cenderung mengatakan saya mengerti bagaimana perasaan anda sebenarnya\n",
            "pola mengingat melalui informasi tertulis membaca\n",
            "sulit mengingat peta kecuali jika dirinya pernah berada di tempat itu\n",
            "saya lebih menyukai mendapatkan informasi tentang hal yang saya senangi dengan membacanya\n",
            "cara belajar yang paling saya suka yaitu mendengar\n",
            "pelajari materi baru dengan membacanya keraskeras  manfaatkan kekuatan verbalisasi informasi untuk memperkuat pembelajaran auditori\n",
            "meminta instruktur untuk memilih pointpoint yang penting dan menuliskannya di papan tulis\n",
            "kegiatan yang lebih disukai adalah demonstrasi\n",
            "selalu berorientasi pada fisik dan banyak bergerak\n",
            "berbicara kepada diri sendiri saat bekerja\n",
            "ketika saya berkonsentrasi  saya lebih fokus pada katakata atau gambar di depan saya\n",
            "saat membaca buku  saya senang dengan dengan cara membacanya keraskeras\n",
            "saya memperhatikan orang karena cara dia berjalan dan bergerak\n",
            "ketika saya menerangkan kepada orang lain  saya cenderung memperlihatkan apa yang saya maksud\n",
            "saya selalu membuat simbolsimbol dan gambar dalam catatab\n",
            "saya menghafal dengan membayangkan sesuatu yang saya hafalkan\n",
            "manfaatkan kartu flash sebagai alat untuk mempelajari katakata baru  memperkuat koneksi visual dengan makna atau konsep yang terkait dengannya\n",
            "memproses informasi atau melakukan tugas baru setelah mendengarkan instruksi dari seorang ahli\n",
            "saya sering menciptakan kalimatkalimat pelajaran menjadi sebuah lagu yang mudah dihafalkan\n",
            "saya mengetahui suadana hati seseorang dengan memperhatikan gerakan badannya\n",
            "ketika berbelanja pakaian  saya cenderung membayangkan saya mengenakan baju itu\n",
            "gambar dan video memberikan representasi visual yang dapat meningkatkan pemahaman dan keterlibatan dengan konten yang disajikan\n",
            "saya sangat pandai menyusun potongan gambar\n",
            "hal yang paling mengganggu saya ketika mencoba untuk berkonsentrasi yaitu sensasi lain seperti  lapar  sepatu ketat  atau khawatir\n",
            "ketika saya mendengarkan sebuah band  saya lebih fokus mendengarkan lirik dan musiknya\n",
            "saya mengingat halhal terbaik dengan melakukan dan mempraktikkan aktivitas atau membayangkannya dilakukan\n",
            "jika saya harus mengeluh tentang barang yang rusak  saya paling nyaman mengeluh melalui telepon\n",
            "memperoleh pengetahuan dengan membaca keras\n",
            "ingatan pertama saya yaitu saat melihat sesuatu\n",
            "ketika saya berkonsentrasi  saya paling sering memikirkan masalah dan kemungkinan solusi di kepala saya\n",
            "saya senang menjelaskan sesuatu dengan cara mendemonstrasikan\n",
            "saya terjebak\n",
            "jika saya menjelaskan kepada seseorang  saya cenderung mendorong mereka untuk mencoba dan membicarakannya melalui ide saya saat mereka melakukannya\n",
            "saya dapat mengerjakan suatu pekerjaan dengan cara bekerja sambil berbicara dengan diri sendiri atau orang lain\n",
            "minta orang lain untuk mendengar pemahaman saya tentang suatu topik\n",
            "saya sangat menyukai mendengarkan musik  radio  dan mengobrol dengan teman\n",
            "saya senang mengisi waktu luang dengan mendengarkan radio musik\n",
            "membaca materi dengan suara yang keras atau merekamnya  serta belajar berkelompok\n",
            "menggunakan kartu flash dan susun dalam kelompok untuk menunjukkan hubungan antar gagasan\n",
            "saya lebih fokus dengan adanya visualisasi\n",
            "merekam katakata ejaan saya sendiri dan dengarkan rekamannya\n",
            "cara belajar yang paling saya suka yaitu menggunakan model dan praktek\n",
            "jika mengingat seseorang  saya sering ingat namanya tapi lupa wajahnya\n",
            "saya cenderung mengatakan saya mengerti bagaimana perasaan anda sebenarnya\n",
            "cara belajar yang paling saya suka yaitu membaca\n",
            "saat saya cemas  saya tidak bisa duduk diam dan terus bergerak\n",
            "jika saya harus mengeluh tentang barang yang rusak  saya sangat suka untuk menulis surat\n",
            "memproses informasi atau melakukan tugas baru setelah membaca instruksi atau melihat orang lain melakukannya terlebih dahulu\n",
            "jika saya memilih makanan dari menu  saya cenderung membayangkan seperti apa rasanya makanan itu\n",
            "carilah peluang untuk mengalami informasi secara langsung  karena ini dapat sangat membantu dalam pemahaman\n",
            "duduk di dekat pintu atau tempat lain di mana saya dapat dengan mudah bangun dan bergerak\n",
            "untuk dapat mengingat dengan cepat  cukup membaca catatan\n",
            "sering membaca sambil menandai dengan warna yang mencolok\n",
            "saya mudah mengingat dengan melalui informasi tertulis\n",
            "saya mengisi waktu luang dengan mendengarkan radio atau musik\n",
            "saya cenderung mengingat kejadian nyata atau pengalaman nyata yang terjadi selama presentasi  iklan  atau video\n",
            "cara belajar senang menggunakan model dan praktik\n",
            "jika catatan saya dari presentasi kurang  mungkin karena topik yang dibahas tidak konkret atau relevan bagi saya\n",
            "ketika saya mendengarkan sebuah band  saya lebih ingin melihat anggota band dan penonton lainnya\n",
            "berpikir intuitif  tanpa katakata\n",
            "saya mahir dan sangat menikmati menyusun dan membuat grafik atau diagram\n",
            "meminta pertanyaan tes untuk dibacakan kepada saya  memfasilitasi pemrosesan dan pemahaman pendengaran selama penilaian\n",
            "senang duduk di bangku paling depan dan menulis penjelasan dengan rapi dan teratur\n",
            "bagus terdengar untukku\n",
            "mendengarkan musik\n",
            "jika saya mengajarkan atau menunjukkan sesuatu yang baru kepada seseorang  saya cenderung menuliskan instruksi untuk mereka\n",
            "ketika pertama kali menghubungi orang baru  saya biasanya membuat janji untuk bertemu muka\n",
            "tidak dapat duduk diam untuk waktu lama\n",
            "saya mengingat halhal terbaik dengan mengatakannya keraskeras atau mengulangi katakata dan poinpoin penting di kepala saya\n",
            "saya lebih suka kegiatan demonstrasi\n",
            "mengandalkan apa yang dapat saya alami atau lakukan secara langsung\n",
            "saya merasa mudah belajar dengan kegiatan praktikum\n",
            "memberi catatan atau bahan bacaan\n",
            "ketika saya membutuhkan petunjuk jalan saat bepergian  saya biasanya melihat peta\n",
            "saat menjelaskan dan mengajarkan sesuatu kepada orang lain saya cenderung dengan cara memerhatikan gerakan badannya terlebih dahulu\n",
            "saya sering merekam penjelasan dosen dengan alat perekam\n",
            "senang melakukan diskusi dengan teman dan dosen\n",
            "mengikuti perkuliahan  pelatihan verbal\n",
            "pola mengingat dengan menulis informasi berkalikali\n",
            "mendengarkan radio\n",
            "metode jigsaw\n",
            "saya memainkan koin atau kunci di dalam kantung saya\n",
            "membuat catatan tersendiri dan menggunakan alat bantu\n",
            "konsentrasi saya mudah terganggu oleh suara dan keributan\n",
            "mengingat apa yang telah dilakukan  tetapi mengalami kesulitan mengingat apa yang dikatakan atau dilihat\n",
            "senang belajar dengan eksplorasi langsung di lapangan\n",
            "saat saya belajar untuk ujian  saya lebih suka membaca catatan  membaca judul buku  dan melihat diagram dan ilustrasi\n",
            "membaca buku dengan suara yang keras\n",
            "berbicara dengan cepat\n",
            "saya sering belajar dengan bantuan iringan musik\n",
            "saya menulis secara detail naskah presentasi pidato terlebih dahulu sebelum mempresentasikannya\n",
            "jenis seni yang paling saya suka yaitu seni rupa\n",
            "ketika saya cemas  saya berbicara di kepala saya atau dengan seorang teman tentang apa yang paling membuat saya khawatir\n",
            "mengungkapkan antusiasme saya terhadap materi pelajaran melalui komunikasi verbal\n",
            "pola berbicara sedang dan berirama\n",
            "saya bisa mengetahui suasana hati seseorang dengan melihat ekspresi wajah\n",
            "hal yang saya ingat jika bertemu kembali dengan seseorang yaitu lupa wajahnya tapi ingat namanya\n",
            "saya memiliki kemampuan dalam menyusun potongan gambar dengan cepat\n",
            "hal yang paling mudah mengganggu konsentrasi saya yaitu suara dan keributan\n",
            "jika saya mengajar atau menunjukkan sesuatu yang baru kepada seseorang  saya cenderung memberi mereka penjelasan verbal\n",
            "saya lebih suka mendengarkan ceramah atau pidato yang bagus daripada membaca tentang materi yang sama\n",
            "melihat poster yang mengiklankan film lain adalah hal yang paling mungkin menurut saya ketika saya sedang mengantri di bioskop\n",
            "mengingat semua yang dikerjakan\n",
            "kamu sangat tidak sensitif\n",
            "mencoretcoret tanpa arti selama berbicara di telepon atau kuliah\n",
            "saya selalu menyediakan pensil pena dengan beberapa warna yang berbeda\n",
            "saya dapat mengerjakan suatu pekerjaan dengan cara mencari tahu sambil melakukan pekerjaan tersebut\n",
            "ruang putih dalam buku memungkinkan tata letak yang seimbang secara visual  mencegah kelebihan informasi dan memungkinkan pembaca untuk fokus pada konten secara lebih efektif\n",
            "berpartisipasi dalam seminar langsung  kesempatan belajar  kunjungan lapangan  dan tur yang memberikan pembelajaran interaktif dan pengalaman\n",
            "saya lebih suka mendengarkan berita di radio atau online daripada membacanya di koran atau di internet\n",
            "diberi penjelasan secara deskriptif agar memiliki bayangan yang jelas tentang materi yang dibicarakan\n",
            "menjelaskan gambar dan visual lainnya kepada seseorang yang tidak hadir  memungkinkan saya mengartikulasikan dan memperkuat pemahaman tentang konten visual\n",
            "saat saya cemas  saya hanya bisa duduk diam tanpa bergerak\n",
            "sering menggunakan frasa seperti tunjukkan padaku atau ayo kita lihat itu\n",
            "dalam mempelajari buku  senang membaca ringkasannya terlebih dahulu sebelum membaca lebih detailnya\n",
            "saat saya berupaya memecahkan masalah  saya membuat daftar  mengatur langkahlangkahnya  dan mencentangnya setelah selesai\n",
            "perlu adanya reflektif jurnal di akhir pembelajaran pada setiap mata pelajaran\n",
            "meningkatkan pemahaman saya dengan memikirkan berbagai contoh yang menunjukkan penerapan informasi\n",
            "konsentrasi saya tidak mudah terganggu dengan keributan\n",
            "selalu membuat catatan untuk mengingat informasi\n",
            "saya mengingat halhal terbaik dengan menulis catatan atau menyimpan detail tercetak  print \n",
            "saya dapat mengingat halhal terbaik dengan melakukan dan mempraktikkan aktivitas atau membayangkannya dilakukan\n",
            "menggunakan jari sebagai petunjuk saat membaca\n",
            "saat saya berupaya memecahkan masalah  saya akan membuat daftar  mengatur langkahlangkahnya  dan mencentangnya setelah selesai\n",
            "sebelum mengerjakan sesuatu  saya selalu mengikuti petunjuk gambar terlebih dahulu\n",
            "saya mengisi waktu luang dengan menonton tv atau film\n",
            "saya lebih suka menggunakan poster  model  atau praktik nyata dan kegiatan lain di kelas\n",
            "pengalaman yang aktif berupa simulasi\n",
            "merekam ceramah untuk membantu mengisi celah dalam catatan saya yang terselubung ke kaset auditori\n",
            "saya mengingat sesuatu hal secara baik dengan cara mendengarkan kuliah termasuk mendapatkan informasi  penjelasan dan diskusi\n",
            "menyukai mindmap  peta pemikiran \n",
            "memahami bacaan dengan lebih cepat dengan membayangkan semua yang dibaca\n",
            "ketika saya menerangkan kepada orang lain  saya cenderung menerangkan kepada mereka dengan berbagai cara berbeda sampai mereka mengerti\n",
            "gangguan visual sangat mengganggu konsentrasi saya\n",
            "mencoba memvisualisasikan bagaimana informasi muncul di halaman\n",
            "lakonlakon pendek dan lucu dapat membantu untuk lebih mudah memahami\n",
            "saya memperhatikan orang karena suara dan nada bicaranya\n",
            "jadwalkan pemeriksaan pendengaran secara teratur untuk memastikan kemampuan pendengaran yang optimal untuk pembelajaran yang efektif\n",
            "sebagian besar waktu luang saya diisi dengan mengobrol dengan teman\n",
            "mempercepat proses belajar dengan membaca dan melihat materi visual dalam bentuk bahasa  surat  kata  angka  dan membuat kontak mata dengan lawan bicara\n",
            "saya melakukan yang terbaik dalam mata pelajaran akademik dengan mendengarkan ceramah dan kaset\n",
            "saya menghafal dengan cara menghafal sambil berjalan dan melakukan sesuatu\n",
            "lebih menyukai metode pembelajaran yang melampaui handout  katakata yang diucapkan  ceramah  buku pelajaran  atau penilaian yang sangat bergantung pada penggunaan kata  sintaksis  dan tata bahasa\n",
            "saat saya berupaya memecahkan masalah  saya melakukan beberapa panggilan telepon dan berbicara dengan teman atau pakar\n",
            "saya pandai bekerja dan memecahkan tekateki dan labirin\n",
            "bagan atau grafik atau diagram dapat mengilustrasikan data atau konsep yang kompleks secara visual  sehingga lebih mudah untuk dipahami dan diingat\n",
            "slide dengan pengaturan ruang yang berbeda pada halaman dapat membantu mengatur informasi dan menyoroti poinpoin penting  membantu penyerapan pengetahuan\n",
            "ketika saya berkonsentrasi  saya biasanya bergerak mondarmandir  menggerakgerakkan bolpoin pensil  dan menyentuh sesuatu\n",
            "jika guru melihat sedang dalam kesulitan memahami suatu konsep  lebih mudah membantunya dengan mengajak berbicara untuk memahaminya atau mengubah fakta panjang menjadi sebuah lagu yang mudah diingat oleh siswa\n",
            "sering membuat simbolsimbol  gambar  tabel  grafik dan peta konsep\n",
            "saya tidak dapat duduk dengan tenang untuk waktu yang lama\n",
            "bereksperimen dengan merekonstruksi gambar dengan cara yang berbeda  menjelajahi berbagai pengaturan ruang untuk meningkatkan pemahaman dan daya ingat\n",
            "praktikum\n",
            "ketika menelpon  saya sambil mencoretcoret kertas\n",
            "saya menghafal dengan cara mengucapkan\n",
            "saya sering meluangkan waktu ke perpustakaan untuk membaca buku\n",
            "mereka benarbenar memanfaatkanku\n",
            "mengingat setiap detail yang dibaca dari pada harus mencari yang tersirat\n",
            "nikmati kunjungan lapangan dan tugas yang melibatkan manipulasi materi\n",
            "mencatat halhal penting terkait materi yang baru saja diajarkan bahkan kegiatan pada waktu itu juga dicatat\n",
            "ini adalah contoh yang mencerahkan\n",
            "senang berbicara  berdiskusi dan menjelaskan sesuatu panjang lebar\n",
            "ketika pertama kali menghubungi orang baru  saya biasanya pergi bersama sambil makan siang atau kegiatan lainnya\n",
            "dalam kelompok belajar atau diskusi  fokuskan pada bagaimana penampilan orang saat berbicara\n",
            "saya sering meluangkan waktu untuk menyalin materi di buku dengan kalimat sendiri yang mudah dipahami\n",
            "mengingat apa yang dilihat daripada apa yang didengar\n",
            "saya cenderung mengatakan bahwa saya mengerti maksud anda\n",
            "disediakan media  slide  video disertai dengan gambargambar yang menarik dan imajinatif\n",
            "saya berbicara dengan cepat\n",
            "saya tidak suka perhiasan atau riasan  tetapi saya suka membeli rantai yang melengkapi pakaian saya\n",
            "saya suka mencatat semua informasi dengan tulisan yang rapi dan teratur\n",
            "jika seseorang diajarkan atau ditunjukkan sesuatu yang baru oleh saya  instruksi akan cenderung ditulis oleh saya\n",
            "minimalkan gangguan selama sesi belajar untuk mempertahankan fokus pada materi visual dan mengoptimalkan hasil belajar\n",
            "menyukai metode presentasi kelompok  dimana yang menjelaskan di depan kelas adalah teman sendiri dengan bahasa yang lebih sederhana sehingga lebih mudah dipahami\n",
            "saya terampil dan senang mengembangkan pembuatan grafik dan bagan\n",
            "mempercepat proses belajar dengan mendengar  berbicara dan berdiskusi\n",
            "saya senang terlibat aktif di kelas\n",
            "sebagai preferensi  saya mungkin menemukan penjelasan verbal lebih berharga daripada katakata tertulis  mencari penjelasan pendengaran daripada hanya mengandalkan bahan tertulis\n",
            "ketika saya belajar untuk ujian  saya lebih suka menuliskannya di kartu indeks dan membuat model atau diagram\n",
            "saya merasa kamu benar\n",
            "saya mudah mengingat dengan melalui penjelasan dan diskusi\n",
            "temukan alasan untuk bermainmain atau bergerak saat bosan\n",
            "saya dapat dengan mudah memahami dan mengikuti petunjuk di peta\n",
            "cara berkomunikasi langsung melihat ekspresi wajah\n",
            "saya lebih mudah mengikuti petunjuk gambar atau diagram daripada petunjuk uraian\n",
            "memberikan gambarangambaran sekilas dari materi yang akan dipelajari\n",
            "saya belajar mengeja suatu kata dengan cara mengeja dengan jari masingmasing kata\n",
            "ketika membeli mobil baru  saya membaca artikelnya di koran atau majalah\n",
            "jika saya memilih makanan dari menu  saya cenderung membicarakan pilihan di kepala saya atau dengan teman\n",
            "ketika mengeja sambil melihat kata yang dieja\n",
            "saya merasa sangat nyaman untuk menyentuh sesuatu  memeluk  berjabat tangan dan hal lain yang melibatkan kontak langsung\n",
            "cenderung menyukai gambaran global  bahasa sensoris\n",
            "saya lebih mudah belajar dengan cara mendengar dan mengingat apa yang didiskusikan daripada yang saya lihat\n",
            "seni rupa\n",
            "saya mudah memahami pelajaran yang berupa praktikum\n",
            "jika bertemu kembali dengan seseorang  hal yang saya ingat adalah wajahnya tapi lupa namanya\n",
            "suka bereksperimen  langsung  dan tidak pernah melihat instruksi terlebih dahulu\n",
            "alokasikan waktu dalam suasana tenang untuk mengingat dan meninjau ideide  memungkinkan konsentrasi terfokus dan penguatan memori\n",
            "mempunyai masalah untuk mengingat instruksi verbal kecuali jika ditulis dan sering meminta bantuan orang untuk mengulanginya\n",
            "bicara dengan siswa lain tentang materi kelas\n",
            "kegiatan yang lebih disukai adalah diskusi berbicara\n",
            "saya dapat mengerjakan suatu pekerjaan dengan cara mengikuti petunjuk gambar terlebih dahulu\n",
            "saya menghafal dengan cara membayangkan\n",
            "menyentuh orang untuk mendapat perhatian mereka\n",
            "ketika memasak menu baru  saya lebih suka menelepon teman untuk meminta penjelasan\n",
            "mencoba gunakan kaset untuk melengkapi bahan belajar lainnya\n",
            "jika saya mengajar atau menunjukkan sesuatu yang baru kepada seseorang  saya cenderung memberi mereka penjelasan verbal\n",
            "saya menikmati waktu luang dengan berolahraga atau otakatik sesuatu\n",
            "membaca catatan ringkasan saya dengan lantang\n",
            "berbicara dalam irama terpola\n",
            "saya lebih suka mendapatkan informasi tentang subjek yang menarik dengan membaca tentangnya\n",
            "tersenyum lebar adalah hal yang paling mungkin yang saya lakukan ketika saya bahagia\n",
            "saya suka menulis atau membuat catatan untuk tinjauan visual\n",
            "saya tahu apa yang harus saya katakan tetapi tidak terpikir kata yang tepat\n",
            "ingat eksperimen dan terlibat dalam kegiatan langsung yang memberikan pemahaman pengalaman informasi\n",
            "seni gerak atau olahraga\n",
            "saya memahami apa yang kamu ucapkan\n",
            "ketika saya menerangkan kepada orang lain  saya cenderung mendorong mereka untuk mencoba  biarkan mereka mencoba ide saya\n",
            "menggunakan pendekatan yang terorganisir  sistematis dan bertahap yang melibatkan tubuh dan otot saya\n",
            "ketika membeli mobil baru  saya test drive berbagai jenis mobil\n",
            "saya cenderung berkata lihat bagaimana saya melakukannya\n",
            "saya senang presentasi di depan kelas\n",
            "ingatan pertama saya yaitu saat melihat sesuatu\n",
            "saya sangat menyukai ikut kegiatan olahraga  makan enak  dan berdansa\n",
            "saya lebih baik dalam mendapat informasi dengan cara menulis di papan tulis disertai dengan penjelasan visual dan tugas membaca\n",
            "saya lebih suka seni rupa  lukisan  daripada musik\n",
            "sangat tertarik pada seni rupa dan desain grafik  arsitektur\n",
            "ketika saya belajar keahlian baru  saya lebih nyaman jika berbicara dengan pengajar apa yang seharusnya saya lakukan\n",
            "saya mengunyah permen karet  merokok atau mengemil saat belajar \n",
            "meningkatkan pemahaman saya dengan menggambar diagram bila perlu  memvisualisasikan informasi untuk memperkuat pemahaman saya\n",
            "saya berpikir cara terbaik untuk mengingat sesuatu dengan cara mengambarkan sesuatu hal tersebut di kepala\n",
            "saya tidak pernah memaksakan untuk belajar berjamjam\n",
            "saya dapat mengingat dengan baik dengan mendengarkan ceramah yang mencakup informasi  penjelasan dan diskusi\n",
            "ingatan pertama saya adalah tentang diajak bicara\n",
            "saat marah  saya cemberut\n",
            "selalu aktif di kelas\n",
            "menyederhanakan konsep kompleks untuk retensi yang lebih baik\n",
            "itu berbunyi seperti bel\n",
            "memahami bacaan jika dibaca dengan suara keras atau membaca dalam hati\n",
            "ketika saya mempelajari keterampilan baru  saya merasa lebih nyaman berbicara dengan instruktur tentang apa yang seharusnya saya lakukan\n",
            "saya suka menganalisa\n",
            "kebiasaan saya saat dalam berbicara yaitu berbicara sambil melakukan gerakan dan isyarat\n",
            "saya dapat mengetahui suasana hati seseorang melalui nada suara\n",
            "saya merasa mudah belajar dengan kegiatan membaca\n",
            "menggaris bawahi teks untuk menekankan informasi penting dan meningkatkan pemahaman\n",
            "meninggalkan ruang di catatan saya selama proses pembuatan catatan  menyediakan ruang untuk mengingat nanti dan informasi tambahan untuk ditambahkan untuk pemahaman yang lebih komprehensif\n",
            "ketika saya belajar untuk ujian  saya biasanya mengerjakan soal dan rumus\n",
            "saya merasa menyesal jika tidak dapat mengikuti perkuliahan\n",
            "jika saya memilih makanan dari menu  saya membayangkan seperti apa rasanya makanan itu\n",
            "memproses informasi atau melakukan tugas baru dengan terus maju dan mencobanya  belajar sambil jalan\n",
            "mendengarkan suara saya sendiri dan rekam pemikiran saya  lalu menuliskan ke dalam bentuk tulisan untuk refleksi dan penguatan lebih lanjut\n",
            "saya senang bergabung dengan organisasi ekstrakurikuler penelitian\n",
            "gambar yang berhubungan dengan topik\n",
            "dengarkan pembicara atau presenter yang memberikan contoh kehidupan nyata  aplikasi praktis  pendekatan langsung  dan demonstrasi trialanderror  memfasilitasi pemahaman yang lebih dalam tentang materi pelajaran\n",
            "mempunyai perkembangan awal otototot yang besar\n",
            "memanfaatkan studi kasus dan aplikasi dunia nyata untuk membantu dalam memahami prinsip dan konsep abstrak\n",
            "berlatih memvisualisasikan informasi yang diucapkan atau dibacakan kepada saya  membentuk gambaran mental untuk membantu pemahaman dan ingatan\n",
            "saya cenderung mengatakan saya tahu bagaimana perasaan anda\n",
            "mendengarkan dan catat  dan meninjau catatan saya sesering mungkin\n",
            "jika saya menjelaskan kepada seseorang  saya lebih mendorong mereka untuk mencoba dan membicarakannya melalui ide saya saat mereka melakukannya\n",
            "memilih posisi duduk di mana saya dapat mendengar dengan jelas  memungkinkan masukan pendengaran yang optimal selama kuliah atau diskusi\n",
            "mendengarkan podcast\n",
            "saya memiliki kemampuan dalam merencanakan jangka panjang dengan baik\n",
            "kegiatan seperti memasak  konstruksi  teknik dan seni membantu saya melihat dan belajar\n",
            "ketika saya bekerja untuk memecahkan masalah  saya lebih menyukai dengan membuat model dari masalah tersebut atau menjalani semua langkah dalam pikiran saya\n",
            "kegiatan yang paling saya suka yaitu demonstrasi\n",
            "lebih suka gurauan lisan daripada komik\n",
            "kegiatan yang paling saya suka yaitu kegiatan fisik\n",
            "dapat belajar dan mengingat tulisan pengucapan bahasa dan pengejaan jika materinya disajikan dalam bentuk cetak dan terlihat rapi\n",
            "memanfaatkan semua bahan pelajaran yang tersedia seperti bagan  peta  strip film  catatan  dan video\n",
            "mendengarkan iklan  podcast  atau tonton video untuk memperoleh informasi dan wawasan tentang berbagai topik\n",
            "kebiasaan saya saat dalam berbicara yaitu singkat dan tidak senang mendengarkan pembicaraan panjang\n",
            "saya cenderung mengatakan saya mendengar apa yang anda katakan\n",
            "suara bising adalah hal yang paling menganggu saya ketika saya mencoba untuk berkonsentrasi\n",
            "mari kita jelaskan subjek ini\n",
            "ingatan pertama saya adalah melakukan sesuatu\n",
            "selalu memberi alokasi waktu untuk istirahat di sela belajarnya\n",
            "saya merasa cocok dan dekat dengan orang lain karena mereka membuat perasaan saya nyaman\n",
            "saya selalu berusaha mendapat nilai a pada mata kuliah praktikum\n",
            "saya mengatakan bahwa maksud anda dipahami oleh saya\n",
            "saya mengingat halhal terbaik dengan mengatakannya keraskeras atau mengulangi katakata dan poinpoin penting di kepala saya\n",
            "hal yang paling mengganggu saya ketika mencoba untuk berkonsentrasi yaitu gangguan visual\n",
            "saya memperlihatkan emosi saya dalam perubaan wajah  cemberut  ketika saya sedang marah\n",
            "menemukan lingkungan pasif yang ideal\n",
            "sering merekam penjelasan dosen dengan alat perekam\n",
            "saya mengambil dan memegang bendabenda disekitar saya selama saya belajar\n",
            "jika kepada seseorang dijelaskan oleh saya  apa yang saya maksud akan cenderung ditunjukkan oleh saya kepada mereka\n",
            "membaca bahan secara sekilas  misalnya memberikan gambaran umum mengenai bahan bacaan sebelum ke perinciannya\n",
            "membaca sambil melakukan gerakan fisik  tidak tahan duduk berjamjam\n",
            "saya sering melakukan eksplorasi ke kebun untuk menambah pemahaman\n",
            "saya lebih mudah mengingat penjelasan dan hasil diskusi daripada membaca buku\n",
            "berusaha keras untuk melihat keseluruhan gambar  mengintegrasikan berbagai aspek dan perspektif untuk mendapatkan pemahaman yang komprehensif\n",
            "saya sering melakukan manipulasi dari konsepkonsep ilmu biologi\n",
            "saya sering meminta bantuan teman untuk menjelaskan materi yang belum saya pahami\n",
            "ingatan pertama saya adalah tentang diajak bicara\n",
            "hal yang paling mengganggu saya ketika mencoba untuk berkonsentrasi yaitu kebisingan\n",
            "memberikan contohcontoh  bukubuku petunjuk praktek\n",
            "di selasela belajar  saya sering mengalokasikan waktu untuk bergerak dan beristirahat secara berkala\n",
            "mencoba telusuri katakata saat saya mengucapkannya\n",
            "mengunyah permen karet  berjalanjalan  atau bergoyang di kursi sambil membaca atau belajar\n",
            "saya mahir dalam mengerjakan dan memecahkan tekateki potongan gambar\n",
            "saya lebih sering menghafal sesuatu sambil berjalan dan melihat\n",
            "lebih suka membaca daripada dibacakan\n",
            "pola mengingat melalui penjelasan dan diskusi\n",
            "membuat dan menyimpan catatan kuliah dapat membantu saya membuat lembar belajar  dan mengaitkan materi kelas dengan aplikasi dan kejadian dunia nyata\n",
            "jika saya menjelaskan kepada seseorang  saya lebih nyaman menjelaskan kepada mereka dengan cara yang berbeda sampai mereka mengerti\n",
            "saya dapat mengingat dengan baik dengan cara mencatatnya\n",
            "kegiatan yang paling saya suka yaitu diskusi dan berbicara\n",
            "ketika saya berkonsentrasi  saya biasanya mendiskusikan masalah dan pemecahannya dalam pikiran saya\n",
            "saya merasa cocok dan dekat dengan orang lain karena penampilan mereka\n",
            "saya sering belajar di luar ruangan\n",
            "mempercepat proses belajar dengan mendengarkan musik  mendengarkan orang lain belajar\n",
            "adanya kontak mata dengan guru atau pengajar daripada harus mendengarkan saja\n",
            "ketika saya membutuhkan petunjuk jalan saat bepergian  saya biasanya bertanya kepada seseorang\n",
            "saya selalu ingat seseorang dengan yang semua ia kerjakan\n",
            "jika terasa benar  lakukan saja\n",
            "melacak kata dengan jari saya untuk mempelajari ejaan  finger spelling \n",
            "ketika saya mendengarkan sebuah band  saya tidak dapat menahan diri untuk mengikuti irama musik\n",
            "saya mengingat halhal terbaik dengan menulis catatan atau menyimpan detail tercetak  print \n",
            "saya sangat menyukai kegiatan olahraga dan kegiatan fisik lainnya\n",
            "saya lebih suka melihat daripada mendengar\n",
            "saya lebih menyukai mendengarkan berita di radio daripada membaca di surat kabar\n",
            "biasanya rapi dan bersih\n",
            "berbicara dengan orang di sebelah saya saat mengantri di bioskop adalah hal yang paling saya sukai\n",
            "ketika saya berkonsentrasi  saya paling sering memikirkan masalah dan kemungkinan solusi di kepala saya\n",
            "pertahankan pemeriksaan mata secara teratur untuk memastikan ketajaman visual yang optimal untuk pembelajaran yang efektif\n",
            "cara bekerja mengikuti petunjuk gambar dan termasuk perencana jangka panjang yang baik\n",
            "ketika saya belajar untuk ujian  saya biasanya banyak merangkum catatan dan membuat diagram\n",
            "jauh lebih sulit untuk mengetahui apa yang harus dikatakan kepada orang tersayang yang tidak sadarkan diri daripada filmfilm\n",
            "jika barang yang rusak harus dikeluhkan  surat akan paling nyaman ditulis oleh saya\n",
            "dalam mengeja kata  saya sambil melihat kata yang dieja\n",
            "saya merasa mudah belajar dengan kegiatan mendengar dan diskusi\n",
            "saya dapat mengetahui suasana hati seseorang hanya dengan mendengarkan nada suaranya\n",
            "ketika berkonsentrasi  katakata atau gambar di depan saya sering kali menjadi fokus oleh saya\n",
            "selalu berusaha mengikuti perkuliahan\n",
            "ketika saya belajar keahlian baru  saya lebih nyaman jika melihat apa yang pengajar kerjakan\n",
            "ketika saya mendengarkan sebuah band  saya tidak bisa tidak mendengarkan lirik dan musiknya\n",
            "saya terjebak di sudut\n",
            "menggunakan media yang sesuai seperti film  video  komputer dan lainlain\n",
            "seni musik\n",
            "menurut saya cara terbaik untuk mengingat sesuatu adalah dengan membayangkannya dalam pikiran saya\n",
            "bergerak bebas agar nyaman dan relaks dan merasa tersiksa jika duduk diam\n",
            "sering menggunakan frasa seperti biarkan saya mencoba atau bagaimana perasaan anda\n",
            "sebagian besar waktu luang saya diisi dengan melakukan aktivitas fisik atau membuat sesuatu apa saja\n",
            "ketika saya hendak memilih makanan yang tertera di daftar menu  saya cenderung membayangkan seperti apa rasa makanan itu\n",
            "jika saya harus mengeluh tentang barang yang rusak  saya merasa nyaman untuk mengembalikan barang tersebut ke toko atau mengirimkannya ke kantor pusat\n",
            "saya memerlukan penjelasan diagram  grafik  atau petunjuk visual\n",
            "saya sering belajar mandiri dengan cara mendatangi mencari obyek langsung\n",
            "saat saya belajar untuk ujian  saya lebih suka lebih suka menuliskannya di kartu indeks dan membuat model atau diagram\n",
            "menanggapi perhatian fisik\n",
            "biasanya tidak terganggu oleh keributan\n",
            "hal yang saya ingat jika bertemu kembali dengan seseorang yaitu lupa namanya tapi ingat wajahnya\n",
            "ketika saya berkonsentrasi  saya lebih fokus pada katakata atau gambar di depan saya\n",
            "saya selalu masuk kelas untuk mendengarkan penjelasan guru\n",
            "jika saya mengajar atau menunjukkan sesuatu yang baru kepada seseorang  saya cenderung memberi mereka penjelasan verbal\n",
            "menyukai tugas maupun soal ulangan dibagikan kembali kemudian dibahas bersama\n",
            "ketika berbelanja pakaian  saya cenderung berdiskusi dengan penjaga toko mengenai model yang cocok\n",
            "adanya sesi pertanyaan akan dapat memicu mahasiswa untuk lebih antusias mendengarkan  menyusun pertanyaan  dan bahkan menjawab pertanyaan\n",
            "merasa kesulitan untuk menulis namun pandai dalam bercerita\n",
            "saya cenderung berkata kamu harus mencobanya sendiri\n",
            "jika saya mengajar atau menunjukkan sesuatu yang baru kepada seseorang  saya cenderung mendemonstrasikannya terlebih dahulu  lalu membiarkan mereka mencobanya\n"
          ]
        }
      ]
    },
    {
      "cell_type": "code",
      "source": [],
      "metadata": {
        "id": "G4zmsspJDtkX"
      },
      "execution_count": null,
      "outputs": []
    },
    {
      "cell_type": "markdown",
      "source": [
        "#split data\n",
        "\n",
        "95:5"
      ],
      "metadata": {
        "id": "7bFfnNxMSxko"
      }
    },
    {
      "cell_type": "code",
      "source": [
        "df2=df"
      ],
      "metadata": {
        "id": "dKULJ7w7DlIO"
      },
      "execution_count": null,
      "outputs": []
    },
    {
      "cell_type": "code",
      "source": [
        "df2=df[:20]\n",
        "df=df[20:]\n",
        "split_point=int(abs(len(df)*0.95))\n",
        "train_data=df[:split_point]\n",
        "test_data=df[split_point:]\n",
        "test2_data=df2\n",
        "print(train_data.shape)\n",
        "print(test_data.shape)\n",
        "print(test2_data.shape)"
      ],
      "metadata": {
        "colab": {
          "base_uri": "https://localhost:8080/"
        },
        "id": "jiF5nNH5OoHZ",
        "outputId": "29466fbf-b918-439d-ba96-673767731c55"
      },
      "execution_count": null,
      "outputs": [
        {
          "output_type": "stream",
          "name": "stdout",
          "text": [
            "(640, 3)\n",
            "(34, 3)\n",
            "(20, 3)\n"
          ]
        }
      ]
    },
    {
      "cell_type": "code",
      "source": [
        "df[:0]"
      ],
      "metadata": {
        "colab": {
          "base_uri": "https://localhost:8080/"
        },
        "id": "zxjriRYQnoyA",
        "outputId": "df277334-292f-446f-b9c1-9b0b82912688"
      },
      "execution_count": null,
      "outputs": [
        {
          "output_type": "execute_result",
          "data": {
            "text/plain": [
              "Empty DataFrame\n",
              "Columns: [type, kalimat, text multiplicity]\n",
              "Index: []"
            ],
            "text/html": [
              "\n",
              "  <div id=\"df-55b2844a-57a0-4380-903e-7697048cf369\">\n",
              "    <div class=\"colab-df-container\">\n",
              "      <div>\n",
              "<style scoped>\n",
              "    .dataframe tbody tr th:only-of-type {\n",
              "        vertical-align: middle;\n",
              "    }\n",
              "\n",
              "    .dataframe tbody tr th {\n",
              "        vertical-align: top;\n",
              "    }\n",
              "\n",
              "    .dataframe thead th {\n",
              "        text-align: right;\n",
              "    }\n",
              "</style>\n",
              "<table border=\"1\" class=\"dataframe\">\n",
              "  <thead>\n",
              "    <tr style=\"text-align: right;\">\n",
              "      <th></th>\n",
              "      <th>type</th>\n",
              "      <th>kalimat</th>\n",
              "      <th>text multiplicity</th>\n",
              "    </tr>\n",
              "  </thead>\n",
              "  <tbody>\n",
              "  </tbody>\n",
              "</table>\n",
              "</div>\n",
              "      <button class=\"colab-df-convert\" onclick=\"convertToInteractive('df-55b2844a-57a0-4380-903e-7697048cf369')\"\n",
              "              title=\"Convert this dataframe to an interactive table.\"\n",
              "              style=\"display:none;\">\n",
              "        \n",
              "  <svg xmlns=\"http://www.w3.org/2000/svg\" height=\"24px\"viewBox=\"0 0 24 24\"\n",
              "       width=\"24px\">\n",
              "    <path d=\"M0 0h24v24H0V0z\" fill=\"none\"/>\n",
              "    <path d=\"M18.56 5.44l.94 2.06.94-2.06 2.06-.94-2.06-.94-.94-2.06-.94 2.06-2.06.94zm-11 1L8.5 8.5l.94-2.06 2.06-.94-2.06-.94L8.5 2.5l-.94 2.06-2.06.94zm10 10l.94 2.06.94-2.06 2.06-.94-2.06-.94-.94-2.06-.94 2.06-2.06.94z\"/><path d=\"M17.41 7.96l-1.37-1.37c-.4-.4-.92-.59-1.43-.59-.52 0-1.04.2-1.43.59L10.3 9.45l-7.72 7.72c-.78.78-.78 2.05 0 2.83L4 21.41c.39.39.9.59 1.41.59.51 0 1.02-.2 1.41-.59l7.78-7.78 2.81-2.81c.8-.78.8-2.07 0-2.86zM5.41 20L4 18.59l7.72-7.72 1.47 1.35L5.41 20z\"/>\n",
              "  </svg>\n",
              "      </button>\n",
              "      \n",
              "  <style>\n",
              "    .colab-df-container {\n",
              "      display:flex;\n",
              "      flex-wrap:wrap;\n",
              "      gap: 12px;\n",
              "    }\n",
              "\n",
              "    .colab-df-convert {\n",
              "      background-color: #E8F0FE;\n",
              "      border: none;\n",
              "      border-radius: 50%;\n",
              "      cursor: pointer;\n",
              "      display: none;\n",
              "      fill: #1967D2;\n",
              "      height: 32px;\n",
              "      padding: 0 0 0 0;\n",
              "      width: 32px;\n",
              "    }\n",
              "\n",
              "    .colab-df-convert:hover {\n",
              "      background-color: #E2EBFA;\n",
              "      box-shadow: 0px 1px 2px rgba(60, 64, 67, 0.3), 0px 1px 3px 1px rgba(60, 64, 67, 0.15);\n",
              "      fill: #174EA6;\n",
              "    }\n",
              "\n",
              "    [theme=dark] .colab-df-convert {\n",
              "      background-color: #3B4455;\n",
              "      fill: #D2E3FC;\n",
              "    }\n",
              "\n",
              "    [theme=dark] .colab-df-convert:hover {\n",
              "      background-color: #434B5C;\n",
              "      box-shadow: 0px 1px 3px 1px rgba(0, 0, 0, 0.15);\n",
              "      filter: drop-shadow(0px 1px 2px rgba(0, 0, 0, 0.3));\n",
              "      fill: #FFFFFF;\n",
              "    }\n",
              "  </style>\n",
              "\n",
              "      <script>\n",
              "        const buttonEl =\n",
              "          document.querySelector('#df-55b2844a-57a0-4380-903e-7697048cf369 button.colab-df-convert');\n",
              "        buttonEl.style.display =\n",
              "          google.colab.kernel.accessAllowed ? 'block' : 'none';\n",
              "\n",
              "        async function convertToInteractive(key) {\n",
              "          const element = document.querySelector('#df-55b2844a-57a0-4380-903e-7697048cf369');\n",
              "          const dataTable =\n",
              "            await google.colab.kernel.invokeFunction('convertToInteractive',\n",
              "                                                     [key], {});\n",
              "          if (!dataTable) return;\n",
              "\n",
              "          const docLinkHtml = 'Like what you see? Visit the ' +\n",
              "            '<a target=\"_blank\" href=https://colab.research.google.com/notebooks/data_table.ipynb>data table notebook</a>'\n",
              "            + ' to learn more about interactive tables.';\n",
              "          element.innerHTML = '';\n",
              "          dataTable['output_type'] = 'display_data';\n",
              "          await google.colab.output.renderOutput(dataTable, element);\n",
              "          const docLink = document.createElement('div');\n",
              "          docLink.innerHTML = docLinkHtml;\n",
              "          element.appendChild(docLink);\n",
              "        }\n",
              "      </script>\n",
              "    </div>\n",
              "  </div>\n",
              "  "
            ]
          },
          "metadata": {},
          "execution_count": 18
        }
      ]
    },
    {
      "cell_type": "code",
      "source": [
        "y_train = train_data[\"type\"]\n",
        "X_train = train_data[\"kalimat\"]\n",
        "X_test = test_data[\"kalimat\"]\n",
        "y_test = test_data[\"type\"]\n",
        "X_test2= test2_data[\"kalimat\"]\n",
        "y_test2 = test2_data[\"type\"]"
      ],
      "metadata": {
        "id": "Z2hRzkTUPHfx"
      },
      "execution_count": null,
      "outputs": []
    },
    {
      "cell_type": "code",
      "source": [
        "y_train.shape"
      ],
      "metadata": {
        "colab": {
          "base_uri": "https://localhost:8080/"
        },
        "id": "3tncn_xkPiza",
        "outputId": "c56bcf7e-6439-4047-fd0d-2bb8045e551f"
      },
      "execution_count": null,
      "outputs": [
        {
          "output_type": "execute_result",
          "data": {
            "text/plain": [
              "(640,)"
            ]
          },
          "metadata": {},
          "execution_count": 20
        }
      ]
    },
    {
      "cell_type": "code",
      "source": [
        "X_test.shape"
      ],
      "metadata": {
        "colab": {
          "base_uri": "https://localhost:8080/"
        },
        "id": "qx2_e0XTPpUE",
        "outputId": "20fd7ec5-9010-4dd1-91cb-f2a3fbad7a32"
      },
      "execution_count": null,
      "outputs": [
        {
          "output_type": "execute_result",
          "data": {
            "text/plain": [
              "(34,)"
            ]
          },
          "metadata": {},
          "execution_count": 21
        }
      ]
    },
    {
      "cell_type": "code",
      "source": [],
      "metadata": {
        "id": "-cGgTMpCpLFU"
      },
      "execution_count": null,
      "outputs": []
    },
    {
      "cell_type": "code",
      "source": [
        "train_sentences = X_train.to_numpy()\n",
        "train_labels = y_train.to_numpy()\n",
        "val_sentences = X_test.to_numpy()\n",
        "val_labels = y_test.to_numpy()\n",
        "test_sentences=X_test2.to_numpy()\n",
        "test_labels=y_test2.to_numpy()"
      ],
      "metadata": {
        "id": "OrbYQeITdGyr"
      },
      "execution_count": null,
      "outputs": []
    },
    {
      "cell_type": "markdown",
      "source": [
        "#tokenizing, padding tensorflow layer"
      ],
      "metadata": {
        "id": "G8ckir9ZS1c0"
      }
    },
    {
      "cell_type": "code",
      "source": [
        "import string"
      ],
      "metadata": {
        "id": "0AZq9U_9ZXup"
      },
      "execution_count": null,
      "outputs": []
    },
    {
      "cell_type": "code",
      "source": [
        "vectorizing_layer = tf.keras.layers.TextVectorization(\n",
        "    standardize=\"lower_and_strip_punctuation\",\n",
        "    max_tokens=1000,\n",
        "    output_mode='int',\n",
        "    output_sequence_length=15)"
      ],
      "metadata": {
        "id": "eVRecHD3gjk9"
      },
      "execution_count": null,
      "outputs": []
    },
    {
      "cell_type": "code",
      "source": [
        "vectorizing_layer.adapt(train_sentences)"
      ],
      "metadata": {
        "id": "Nf0c3SGyW2E7"
      },
      "execution_count": null,
      "outputs": []
    },
    {
      "cell_type": "code",
      "source": [
        "vectorizing_layer.get_vocabulary()[2]"
      ],
      "metadata": {
        "colab": {
          "base_uri": "https://localhost:8080/"
        },
        "id": "DJ3EYUXSbGOL",
        "outputId": "f518b1db-63b2-4ccf-891d-b1b7d153b9ef"
      },
      "execution_count": null,
      "outputs": [
        {
          "output_type": "execute_result",
          "data": {
            "text/plain": [
              "'belajar'"
            ],
            "application/vnd.google.colaboratory.intrinsic+json": {
              "type": "string"
            }
          },
          "metadata": {},
          "execution_count": 26
        }
      ]
    },
    {
      "cell_type": "code",
      "source": [
        "def vectorize_text(text):\n",
        "    return vectorizing_layer(text)"
      ],
      "metadata": {
        "id": "EFmxIsxyV7H3"
      },
      "execution_count": null,
      "outputs": []
    },
    {
      "cell_type": "code",
      "source": [
        "padded_sentences_train=vectorize_text(train_sentences)\n",
        "padded_sentences_val=vectorize_text(val_sentences)\n",
        "padded_sentences_test=vectorize_text(test_sentences)"
      ],
      "metadata": {
        "id": "y9Y3SfA3eauT"
      },
      "execution_count": null,
      "outputs": []
    },
    {
      "cell_type": "code",
      "source": [
        "x=(df['kalimat'].apply(lambda x: len(x.split(' '))).sum())"
      ],
      "metadata": {
        "id": "SgS0iKPOkAQw"
      },
      "execution_count": null,
      "outputs": []
    },
    {
      "cell_type": "code",
      "source": [
        "x"
      ],
      "metadata": {
        "colab": {
          "base_uri": "https://localhost:8080/"
        },
        "id": "jVzyH2vLKQ4z",
        "outputId": "203f9a4c-c9fb-4f06-eabe-34a2c469440e"
      },
      "execution_count": null,
      "outputs": [
        {
          "output_type": "execute_result",
          "data": {
            "text/plain": [
              "3417"
            ]
          },
          "metadata": {},
          "execution_count": 30
        }
      ]
    },
    {
      "cell_type": "markdown",
      "source": [
        "#one-hot encoding\n"
      ],
      "metadata": {
        "id": "16PgMc4jpgs1"
      }
    },
    {
      "cell_type": "code",
      "source": [
        "train_labels=tf.one_hot(\n",
        "    train_labels,3)"
      ],
      "metadata": {
        "id": "drpvhZsJpjYV"
      },
      "execution_count": null,
      "outputs": []
    },
    {
      "cell_type": "code",
      "source": [
        "val_labels=tf.one_hot(\n",
        "    val_labels,3)"
      ],
      "metadata": {
        "id": "SAJ1eg9Qpjba"
      },
      "execution_count": null,
      "outputs": []
    },
    {
      "cell_type": "code",
      "source": [
        "test_labels=tf.one_hot(\n",
        "    test_labels,3)"
      ],
      "metadata": {
        "id": "8wetyvkYwn3d"
      },
      "execution_count": null,
      "outputs": []
    },
    {
      "cell_type": "code",
      "source": [
        "padded_sentences_train.shape,train_labels.shape"
      ],
      "metadata": {
        "colab": {
          "base_uri": "https://localhost:8080/"
        },
        "id": "eeWcihyIMRxa",
        "outputId": "d04d66c2-346a-40b3-c6ad-c02bbf357d59"
      },
      "execution_count": null,
      "outputs": [
        {
          "output_type": "execute_result",
          "data": {
            "text/plain": [
              "(TensorShape([640, 15]), TensorShape([640, 3]))"
            ]
          },
          "metadata": {},
          "execution_count": 34
        }
      ]
    },
    {
      "cell_type": "code",
      "source": [],
      "metadata": {
        "id": "MRyWLczK4qg6"
      },
      "execution_count": null,
      "outputs": []
    },
    {
      "cell_type": "markdown",
      "source": [
        "#layer model"
      ],
      "metadata": {
        "id": "EBvOHRGSS--h"
      }
    },
    {
      "cell_type": "code",
      "source": [
        "from tensorflow.keras import layers\n",
        "\n",
        "# Embedding: https://www.tensorflow.org/tutorials/text/word_embeddings\n",
        "# Turns positive integers (indexes) into dense vectors of fixed size. (other approach could be one-hot-encoding)\n",
        "\n",
        "# Word embeddings give us a way to use an efficient, dense representation in which similar words have\n",
        "# a similar encoding. Importantly, you do not have to specify this encoding by hand. An embedding is a\n",
        "# dense vector of floating point values (the length of the vector is a parameter you specify).\n",
        "\n",
        "model = keras.models.Sequential()\n",
        "\n",
        "model.add(layers.Embedding(3417, 15, input_length=15))\n",
        "model.add(layers.LSTM(8, dropout=0.7))\n",
        "model.add(layers.Dense(3, activation=\"Softmax\"))\n",
        "\n",
        "model.summary()"
      ],
      "metadata": {
        "colab": {
          "base_uri": "https://localhost:8080/"
        },
        "id": "e1obW_zBeNu_",
        "outputId": "10ad5a3d-112d-45c2-dcc6-0684795e20d6"
      },
      "execution_count": null,
      "outputs": [
        {
          "output_type": "stream",
          "name": "stdout",
          "text": [
            "Model: \"sequential\"\n",
            "_________________________________________________________________\n",
            " Layer (type)                Output Shape              Param #   \n",
            "=================================================================\n",
            " embedding (Embedding)       (None, 15, 15)            51255     \n",
            "                                                                 \n",
            " lstm (LSTM)                 (None, 8)                 768       \n",
            "                                                                 \n",
            " dense (Dense)               (None, 3)                 27        \n",
            "                                                                 \n",
            "=================================================================\n",
            "Total params: 52,050\n",
            "Trainable params: 52,050\n",
            "Non-trainable params: 0\n",
            "_________________________________________________________________\n"
          ]
        }
      ]
    },
    {
      "cell_type": "code",
      "source": [
        "loss = keras.losses.CategoricalCrossentropy(from_logits=False)\n",
        "optim = keras.optimizers.Adam(learning_rate=0.001)\n",
        "metrics = [\"accuracy\"]\n",
        "\n",
        "model.compile(loss=loss, optimizer=optim, metrics=metrics)"
      ],
      "metadata": {
        "id": "FhuGSXdPexnf"
      },
      "execution_count": null,
      "outputs": []
    },
    {
      "cell_type": "code",
      "source": [
        "x"
      ],
      "metadata": {
        "colab": {
          "base_uri": "https://localhost:8080/"
        },
        "id": "YhC0h5CK4rmY",
        "outputId": "1a767ac2-63e1-4050-afe8-16de4ddbd910"
      },
      "execution_count": null,
      "outputs": [
        {
          "output_type": "execute_result",
          "data": {
            "text/plain": [
              "3417"
            ]
          },
          "metadata": {},
          "execution_count": 37
        }
      ]
    },
    {
      "cell_type": "markdown",
      "source": [
        "#Hasil"
      ],
      "metadata": {
        "id": "N9p5ehrcrLcI"
      }
    },
    {
      "cell_type": "code",
      "source": [
        "history=model.fit(padded_sentences_train, train_labels, epochs=50, validation_data=(padded_sentences_val, val_labels), verbose=2)"
      ],
      "metadata": {
        "colab": {
          "base_uri": "https://localhost:8080/"
        },
        "outputId": "8400269d-c9cf-4950-a63e-d345eee4851f",
        "id": "X8b_GNNugD0P"
      },
      "execution_count": null,
      "outputs": [
        {
          "output_type": "stream",
          "name": "stdout",
          "text": [
            "Epoch 1/50\n",
            "20/20 - 3s - loss: 1.0963 - accuracy: 0.3797 - val_loss: 1.1025 - val_accuracy: 0.2941 - 3s/epoch - 149ms/step\n",
            "Epoch 2/50\n",
            "20/20 - 0s - loss: 1.0940 - accuracy: 0.3812 - val_loss: 1.1043 - val_accuracy: 0.2941 - 165ms/epoch - 8ms/step\n",
            "Epoch 3/50\n",
            "20/20 - 0s - loss: 1.0925 - accuracy: 0.3797 - val_loss: 1.1069 - val_accuracy: 0.2941 - 178ms/epoch - 9ms/step\n",
            "Epoch 4/50\n",
            "20/20 - 0s - loss: 1.0912 - accuracy: 0.3797 - val_loss: 1.1058 - val_accuracy: 0.2941 - 156ms/epoch - 8ms/step\n",
            "Epoch 5/50\n",
            "20/20 - 0s - loss: 1.0891 - accuracy: 0.3812 - val_loss: 1.1058 - val_accuracy: 0.2941 - 155ms/epoch - 8ms/step\n",
            "Epoch 6/50\n",
            "20/20 - 0s - loss: 1.0841 - accuracy: 0.3828 - val_loss: 1.0980 - val_accuracy: 0.2941 - 162ms/epoch - 8ms/step\n",
            "Epoch 7/50\n",
            "20/20 - 0s - loss: 1.0644 - accuracy: 0.4297 - val_loss: 1.0731 - val_accuracy: 0.3824 - 153ms/epoch - 8ms/step\n",
            "Epoch 8/50\n",
            "20/20 - 0s - loss: 0.9875 - accuracy: 0.5562 - val_loss: 0.9799 - val_accuracy: 0.4118 - 174ms/epoch - 9ms/step\n",
            "Epoch 9/50\n",
            "20/20 - 0s - loss: 0.7994 - accuracy: 0.6500 - val_loss: 0.8924 - val_accuracy: 0.5882 - 162ms/epoch - 8ms/step\n",
            "Epoch 10/50\n",
            "20/20 - 0s - loss: 0.6643 - accuracy: 0.7609 - val_loss: 0.8914 - val_accuracy: 0.6765 - 174ms/epoch - 9ms/step\n",
            "Epoch 11/50\n",
            "20/20 - 0s - loss: 0.6139 - accuracy: 0.7859 - val_loss: 0.8719 - val_accuracy: 0.6176 - 153ms/epoch - 8ms/step\n",
            "Epoch 12/50\n",
            "20/20 - 0s - loss: 0.5065 - accuracy: 0.8562 - val_loss: 0.8659 - val_accuracy: 0.7059 - 173ms/epoch - 9ms/step\n",
            "Epoch 13/50\n",
            "20/20 - 0s - loss: 0.4916 - accuracy: 0.8484 - val_loss: 0.8880 - val_accuracy: 0.6765 - 169ms/epoch - 8ms/step\n",
            "Epoch 14/50\n",
            "20/20 - 0s - loss: 0.4583 - accuracy: 0.8453 - val_loss: 0.8566 - val_accuracy: 0.7059 - 167ms/epoch - 8ms/step\n",
            "Epoch 15/50\n",
            "20/20 - 0s - loss: 0.4199 - accuracy: 0.8641 - val_loss: 0.8341 - val_accuracy: 0.6765 - 177ms/epoch - 9ms/step\n",
            "Epoch 16/50\n",
            "20/20 - 0s - loss: 0.3842 - accuracy: 0.8859 - val_loss: 0.8564 - val_accuracy: 0.6765 - 170ms/epoch - 8ms/step\n",
            "Epoch 17/50\n",
            "20/20 - 0s - loss: 0.3709 - accuracy: 0.8859 - val_loss: 0.8049 - val_accuracy: 0.7059 - 157ms/epoch - 8ms/step\n",
            "Epoch 18/50\n",
            "20/20 - 0s - loss: 0.3645 - accuracy: 0.8813 - val_loss: 0.9042 - val_accuracy: 0.6471 - 156ms/epoch - 8ms/step\n",
            "Epoch 19/50\n",
            "20/20 - 0s - loss: 0.3450 - accuracy: 0.8953 - val_loss: 0.8504 - val_accuracy: 0.7059 - 166ms/epoch - 8ms/step\n",
            "Epoch 20/50\n",
            "20/20 - 0s - loss: 0.2972 - accuracy: 0.9141 - val_loss: 0.8963 - val_accuracy: 0.6471 - 156ms/epoch - 8ms/step\n",
            "Epoch 21/50\n",
            "20/20 - 0s - loss: 0.3044 - accuracy: 0.9062 - val_loss: 0.9175 - val_accuracy: 0.6471 - 176ms/epoch - 9ms/step\n",
            "Epoch 22/50\n",
            "20/20 - 0s - loss: 0.2968 - accuracy: 0.9156 - val_loss: 0.8456 - val_accuracy: 0.6765 - 240ms/epoch - 12ms/step\n",
            "Epoch 23/50\n",
            "20/20 - 0s - loss: 0.2596 - accuracy: 0.9250 - val_loss: 0.8302 - val_accuracy: 0.6765 - 230ms/epoch - 12ms/step\n",
            "Epoch 24/50\n",
            "20/20 - 0s - loss: 0.2717 - accuracy: 0.9172 - val_loss: 0.8081 - val_accuracy: 0.7059 - 234ms/epoch - 12ms/step\n",
            "Epoch 25/50\n",
            "20/20 - 0s - loss: 0.2787 - accuracy: 0.9031 - val_loss: 0.8029 - val_accuracy: 0.7647 - 253ms/epoch - 13ms/step\n",
            "Epoch 26/50\n",
            "20/20 - 0s - loss: 0.2156 - accuracy: 0.9359 - val_loss: 0.8192 - val_accuracy: 0.7353 - 231ms/epoch - 12ms/step\n",
            "Epoch 27/50\n",
            "20/20 - 0s - loss: 0.2661 - accuracy: 0.9156 - val_loss: 0.8106 - val_accuracy: 0.7353 - 244ms/epoch - 12ms/step\n",
            "Epoch 28/50\n",
            "20/20 - 0s - loss: 0.2320 - accuracy: 0.9312 - val_loss: 0.8454 - val_accuracy: 0.7059 - 239ms/epoch - 12ms/step\n",
            "Epoch 29/50\n",
            "20/20 - 0s - loss: 0.2163 - accuracy: 0.9406 - val_loss: 0.8427 - val_accuracy: 0.7353 - 251ms/epoch - 13ms/step\n",
            "Epoch 30/50\n",
            "20/20 - 0s - loss: 0.2406 - accuracy: 0.9234 - val_loss: 0.8550 - val_accuracy: 0.7353 - 253ms/epoch - 13ms/step\n",
            "Epoch 31/50\n",
            "20/20 - 0s - loss: 0.2334 - accuracy: 0.9219 - val_loss: 0.8478 - val_accuracy: 0.6765 - 262ms/epoch - 13ms/step\n",
            "Epoch 32/50\n",
            "20/20 - 0s - loss: 0.2254 - accuracy: 0.9266 - val_loss: 0.8556 - val_accuracy: 0.7059 - 233ms/epoch - 12ms/step\n",
            "Epoch 33/50\n",
            "20/20 - 0s - loss: 0.2262 - accuracy: 0.9312 - val_loss: 0.8130 - val_accuracy: 0.7059 - 195ms/epoch - 10ms/step\n",
            "Epoch 34/50\n",
            "20/20 - 0s - loss: 0.2352 - accuracy: 0.9156 - val_loss: 0.8156 - val_accuracy: 0.7059 - 174ms/epoch - 9ms/step\n",
            "Epoch 35/50\n",
            "20/20 - 0s - loss: 0.2273 - accuracy: 0.9266 - val_loss: 0.8287 - val_accuracy: 0.7059 - 183ms/epoch - 9ms/step\n",
            "Epoch 36/50\n",
            "20/20 - 0s - loss: 0.1907 - accuracy: 0.9359 - val_loss: 0.7945 - val_accuracy: 0.7059 - 184ms/epoch - 9ms/step\n",
            "Epoch 37/50\n",
            "20/20 - 0s - loss: 0.2032 - accuracy: 0.9359 - val_loss: 0.7897 - val_accuracy: 0.7647 - 159ms/epoch - 8ms/step\n",
            "Epoch 38/50\n",
            "20/20 - 0s - loss: 0.1902 - accuracy: 0.9453 - val_loss: 0.7870 - val_accuracy: 0.7353 - 172ms/epoch - 9ms/step\n",
            "Epoch 39/50\n",
            "20/20 - 0s - loss: 0.2024 - accuracy: 0.9375 - val_loss: 0.7852 - val_accuracy: 0.7647 - 176ms/epoch - 9ms/step\n",
            "Epoch 40/50\n",
            "20/20 - 0s - loss: 0.1608 - accuracy: 0.9547 - val_loss: 0.7854 - val_accuracy: 0.7647 - 202ms/epoch - 10ms/step\n",
            "Epoch 41/50\n",
            "20/20 - 0s - loss: 0.1783 - accuracy: 0.9328 - val_loss: 0.8067 - val_accuracy: 0.7353 - 185ms/epoch - 9ms/step\n",
            "Epoch 42/50\n",
            "20/20 - 0s - loss: 0.2032 - accuracy: 0.9344 - val_loss: 0.8026 - val_accuracy: 0.7941 - 176ms/epoch - 9ms/step\n",
            "Epoch 43/50\n",
            "20/20 - 0s - loss: 0.1780 - accuracy: 0.9359 - val_loss: 0.7946 - val_accuracy: 0.7647 - 168ms/epoch - 8ms/step\n",
            "Epoch 44/50\n",
            "20/20 - 0s - loss: 0.1979 - accuracy: 0.9250 - val_loss: 0.8103 - val_accuracy: 0.7353 - 151ms/epoch - 8ms/step\n",
            "Epoch 45/50\n",
            "20/20 - 0s - loss: 0.1573 - accuracy: 0.9531 - val_loss: 0.8257 - val_accuracy: 0.7353 - 177ms/epoch - 9ms/step\n",
            "Epoch 46/50\n",
            "20/20 - 0s - loss: 0.1542 - accuracy: 0.9531 - val_loss: 0.8390 - val_accuracy: 0.7059 - 171ms/epoch - 9ms/step\n",
            "Epoch 47/50\n",
            "20/20 - 0s - loss: 0.1729 - accuracy: 0.9391 - val_loss: 0.8617 - val_accuracy: 0.7059 - 172ms/epoch - 9ms/step\n",
            "Epoch 48/50\n",
            "20/20 - 0s - loss: 0.1735 - accuracy: 0.9422 - val_loss: 0.8230 - val_accuracy: 0.7647 - 147ms/epoch - 7ms/step\n",
            "Epoch 49/50\n",
            "20/20 - 0s - loss: 0.1821 - accuracy: 0.9375 - val_loss: 0.8319 - val_accuracy: 0.7059 - 161ms/epoch - 8ms/step\n",
            "Epoch 50/50\n",
            "20/20 - 0s - loss: 0.1478 - accuracy: 0.9516 - val_loss: 0.8378 - val_accuracy: 0.7059 - 147ms/epoch - 7ms/step\n"
          ]
        }
      ]
    },
    {
      "cell_type": "code",
      "source": [
        "history_dict = history.history\n",
        "history_dict.keys()"
      ],
      "metadata": {
        "colab": {
          "base_uri": "https://localhost:8080/"
        },
        "outputId": "7ed8ffd9-11d7-4966-848e-39b4bc0ed7d7",
        "id": "-tueJbVtgD0a"
      },
      "execution_count": null,
      "outputs": [
        {
          "output_type": "execute_result",
          "data": {
            "text/plain": [
              "dict_keys(['loss', 'accuracy', 'val_loss', 'val_accuracy'])"
            ]
          },
          "metadata": {},
          "execution_count": 39
        }
      ]
    },
    {
      "cell_type": "code",
      "source": [
        "acc = history_dict['accuracy']\n",
        "val_acc = history_dict['val_accuracy']\n",
        "loss = history_dict['loss']\n",
        "val_loss = history_dict['val_loss']\n",
        "\n",
        "epochs = range(1, len(acc) + 1)\n",
        "\n",
        "\n",
        "# \"bo\" is for \"blue dot\"\n",
        "plt.plot(epochs, loss, 'm*', label='Training loss')\n",
        "# b is for \"solid blue line\"\n",
        "plt.plot(epochs, val_loss, 'm', label='Validation loss')\n",
        "plt.title('Training and validation loss')\n",
        "plt.xlabel('Epochs')\n",
        "plt.ylabel('Loss')\n",
        "plt.legend()\n",
        "\n",
        "plt.show()"
      ],
      "metadata": {
        "colab": {
          "base_uri": "https://localhost:8080/",
          "height": 472
        },
        "outputId": "b27de57d-add8-45b6-f08a-19646d6f2924",
        "id": "r-wZp3K-gD0a"
      },
      "execution_count": null,
      "outputs": [
        {
          "output_type": "display_data",
          "data": {
            "text/plain": [
              "<Figure size 640x480 with 1 Axes>"
            ],
            "image/png": "[encoded data removed]"
          },
          "metadata": {}
        }
      ]
    },
    {
      "cell_type": "code",
      "source": [
        "plt.plot(epochs, acc, 'c*', label='Training acc')\n",
        "plt.plot(epochs, val_acc, 'c', label='Validation acc')\n",
        "plt.title('Training and validation accuracy')\n",
        "plt.xlabel('Epochs')\n",
        "plt.ylabel('Accuracy')\n",
        "plt.legend(loc='lower right')\n",
        "\n",
        "plt.show()"
      ],
      "metadata": {
        "colab": {
          "base_uri": "https://localhost:8080/",
          "height": 472
        },
        "outputId": "edef2781-2915-442a-93cc-48fa73953bf8",
        "id": "f3i2WXN2gD0b"
      },
      "execution_count": null,
      "outputs": [
        {
          "output_type": "display_data",
          "data": {
            "text/plain": [
              "<Figure size 640x480 with 1 Axes>"
            ],
            "image/png": "[encoded data removed]"
          },
          "metadata": {}
        }
      ]
    },
    {
      "cell_type": "code",
      "source": [
        "test_sentences"
      ],
      "metadata": {
        "colab": {
          "base_uri": "https://localhost:8080/"
        },
        "id": "wEv2sXDad8kl",
        "outputId": "ade60d61-6515-4bb3-878c-e17b9d37547f"
      },
      "execution_count": null,
      "outputs": [
        {
          "output_type": "execute_result",
          "data": {
            "text/plain": [
              "array(['menemukan ditonton bosan',\n",
              "       'kesulitan menulis karya ilmiah pandai berpidato',\n",
              "       'menggerakkan bibir tulisan buku membaca',\n",
              "       'berkomunikasi menyentuh menghargai dorongan fisik tepukan',\n",
              "       'rangkullah pendekatan holistik reduksionis berusaha memahami konteks hubungan topik',\n",
              "       'menyenangi sunyi tenang belajar',\n",
              "       'berupaya memecahkan model menjalani langkah pikiran',\n",
              "       'memperluas catatan berbicara orang mengumpulkan catatan materi',\n",
              "       'mengajari cenderung menulis instruksi', 'cenderung maksud',\n",
              "       'berupaya memecahkan suka panggilan telepon berbicara teman pakar',\n",
              "       'mempelajari ejaan katakata finger spelling katakata',\n",
              "       'memanfaatkan alat bantu visual pameran sampel foto video iklan tv meningkatkan pemahaman keterlibatan informasi',\n",
              "       'mengoprasikan peralatan mendengarkan penjelasan orang peralatan',\n",
              "       'mempelajari keterampilan nyaman mencobanya menyelesaikannya jalan',\n",
              "       'suka gurauan lisan',\n",
              "       'tingkatkan pemahaman retensi membaca cerita tugas arahan lantang melibatkan pemrosesan pendengaran verbal',\n",
              "       'senang tangan',\n",
              "       'menginjak membanting pintu melampiaskannya barang lakukan marah',\n",
              "       'poster mengiklankan film mengantri bioskop'], dtype=object)"
            ]
          },
          "metadata": {},
          "execution_count": 42
        }
      ]
    },
    {
      "cell_type": "code",
      "source": [
        "model.predict(padded_sentences_test)\n",
        "loss, accuracy=model.evaluate(padded_sentences_test, test_labels)\n",
        "print(\"accuracy:\",accuracy)\n",
        "print(\"loss:\",loss)"
      ],
      "metadata": {
        "colab": {
          "base_uri": "https://localhost:8080/"
        },
        "outputId": "dd545f1f-1d7a-4d33-a6bd-a66f06ecd5e1",
        "id": "GWT9FQovgD0b"
      },
      "execution_count": null,
      "outputs": [
        {
          "output_type": "stream",
          "name": "stdout",
          "text": [
            "1/1 [==============================] - 0s 469ms/step\n",
            "1/1 [==============================] - 0s 28ms/step - loss: 1.3668 - accuracy: 0.5500\n",
            "accuracy: 0.550000011920929\n",
            "loss: 1.3668158054351807\n"
          ]
        }
      ]
    },
    {
      "cell_type": "code",
      "source": [
        "export_model = tf.keras.Sequential([\n",
        "  vectorizing_layer,\n",
        "  model,\n",
        "])\n",
        "\n",
        "export_model.compile(\n",
        "    loss=keras.losses.CategoricalCrossentropy(from_logits=False), optimizer=\"adam\", metrics=['accuracy']\n",
        ")\n",
        "p=['saya suka membaca buku']\n",
        "\n",
        "a=export_model.predict(p)\n"
      ],
      "metadata": {
        "colab": {
          "base_uri": "https://localhost:8080/"
        },
        "outputId": "98839f7b-dfdd-4bd2-a660-f72e23a82114",
        "id": "Fa4XsoLKgD0c"
      },
      "execution_count": null,
      "outputs": [
        {
          "output_type": "stream",
          "name": "stdout",
          "text": [
            "1/1 [==============================] - 0s 492ms/step\n"
          ]
        }
      ]
    },
    {
      "cell_type": "markdown",
      "source": [
        "#Export Model"
      ],
      "metadata": {
        "id": "9qOV5SU35c5K"
      }
    },
    {
      "cell_type": "code",
      "source": [
        "tf.saved_model.save(export_model, 'model')"
      ],
      "metadata": {
        "colab": {
          "base_uri": "https://localhost:8080/"
        },
        "id": "yLM1fYcqFXOx",
        "outputId": "05eb5646-5947-487e-e1d3-3c3c4a815452"
      },
      "execution_count": null,
      "outputs": [
        {
          "output_type": "stream",
          "name": "stderr",
          "text": [
            "WARNING:absl:Found untraced functions such as _update_step_xla, _update_step_xla, lstm_cell_layer_call_fn, lstm_cell_layer_call_and_return_conditional_losses, softmax_layer_call_fn while saving (showing 5 of 6). These functions will not be directly callable after loading.\n"
          ]
        }
      ]
    },
    {
      "cell_type": "code",
      "source": [
        "!zip -r model_savedmodel.zip model"
      ],
      "metadata": {
        "colab": {
          "base_uri": "https://localhost:8080/"
        },
        "id": "36dDexxDFW8i",
        "outputId": "a94bcb8a-b5ef-477a-ecd3-a3f405b41525"
      },
      "execution_count": null,
      "outputs": [
        {
          "output_type": "stream",
          "name": "stdout",
          "text": [
            "  adding: model/ (stored 0%)\n",
            "  adding: model/assets/ (stored 0%)\n",
            "  adding: model/fingerprint.pb (stored 0%)\n",
            "  adding: model/variables/ (stored 0%)\n",
            "  adding: model/variables/variables.index (deflated 59%)\n",
            "  adding: model/variables/variables.data-00000-of-00001 (deflated 52%)\n",
            "  adding: model/saved_model.pb (deflated 90%)\n"
          ]
        }
      ]
    },
    {
      "cell_type": "code",
      "source": [
        "from google.colab import files\n",
        "files.download(\"model_savedmodel.zip\")"
      ],
      "metadata": {
        "colab": {
          "base_uri": "https://localhost:8080/",
          "height": 17
        },
        "id": "f2ifIEG7FvxD",
        "outputId": "8599396b-03af-4b1b-9791-a04d5a8733ae"
      },
      "execution_count": null,
      "outputs": [
        {
          "output_type": "display_data",
          "data": {
            "text/plain": [
              "<IPython.core.display.Javascript object>"
            ],
            "application/javascript": [
              "\n",
              "    async function download(id, filename, size) {\n",
              "      if (!google.colab.kernel.accessAllowed) {\n",
              "        return;\n",
              "      }\n",
              "      const div = document.createElement('div');\n",
              "      const label = document.createElement('label');\n",
              "      label.textContent = `Downloading \"${filename}\": `;\n",
              "      div.appendChild(label);\n",
              "      const progress = document.createElement('progress');\n",
              "      progress.max = size;\n",
              "      div.appendChild(progress);\n",
              "      document.body.appendChild(div);\n",
              "\n",
              "      const buffers = [];\n",
              "      let downloaded = 0;\n",
              "\n",
              "      const channel = await google.colab.kernel.comms.open(id);\n",
              "      // Send a message to notify the kernel that we're ready.\n",
              "      channel.send({})\n",
              "\n",
              "      for await (const message of channel.messages) {\n",
              "        // Send a message to notify the kernel that we're ready.\n",
              "        channel.send({})\n",
              "        if (message.buffers) {\n",
              "          for (const buffer of message.buffers) {\n",
              "            buffers.push(buffer);\n",
              "            downloaded += buffer.byteLength;\n",
              "            progress.value = downloaded;\n",
              "          }\n",
              "        }\n",
              "      }\n",
              "      const blob = new Blob(buffers, {type: 'application/binary'});\n",
              "      const a = document.createElement('a');\n",
              "      a.href = window.URL.createObjectURL(blob);\n",
              "      a.download = filename;\n",
              "      div.appendChild(a);\n",
              "      a.click();\n",
              "      div.remove();\n",
              "    }\n",
              "  "
            ]
          },
          "metadata": {}
        },
        {
          "output_type": "display_data",
          "data": {
            "text/plain": [
              "<IPython.core.display.Javascript object>"
            ],
            "application/javascript": [
              "download(\"download_0a0d8f42-4337-4185-b9d3-3845196c1c06\", \"model_savedmodel.zip\", 445719)"
            ]
          },
          "metadata": {}
        }
      ]
    },
    {
      "cell_type": "code",
      "source": [
        "export_model.save('my_model') #nyoba format h5"
      ],
      "metadata": {
        "colab": {
          "base_uri": "https://localhost:8080/",
          "height": 353
        },
        "id": "YcyNoJwxhtLV",
        "outputId": "7ee232f2-1919-4bea-c5a8-9bc930c70d80"
      },
      "execution_count": null,
      "outputs": [
        {
          "output_type": "error",
          "ename": "NotImplementedError",
          "evalue": "ignored",
          "traceback": [
            "\u001b[0;31m---------------------------------------------------------------------------\u001b[0m",
            "\u001b[0;31mNotImplementedError\u001b[0m                       Traceback (most recent call last)",
            "\u001b[0;32m<ipython-input-116-597210897445>\u001b[0m in \u001b[0;36m<cell line: 1>\u001b[0;34m()\u001b[0m\n\u001b[0;32m----> 1\u001b[0;31m \u001b[0mexport_model\u001b[0m\u001b[0;34m.\u001b[0m\u001b[0msave\u001b[0m\u001b[0;34m(\u001b[0m\u001b[0;34m'my_model1.h5'\u001b[0m\u001b[0;34m)\u001b[0m\u001b[0;34m\u001b[0m\u001b[0;34m\u001b[0m\u001b[0m\n\u001b[0m",
            "\u001b[0;32m/usr/local/lib/python3.10/dist-packages/keras/utils/traceback_utils.py\u001b[0m in \u001b[0;36merror_handler\u001b[0;34m(*args, **kwargs)\u001b[0m\n\u001b[1;32m     68\u001b[0m             \u001b[0;31m# To get the full stack trace, call:\u001b[0m\u001b[0;34m\u001b[0m\u001b[0;34m\u001b[0m\u001b[0m\n\u001b[1;32m     69\u001b[0m             \u001b[0;31m# `tf.debugging.disable_traceback_filtering()`\u001b[0m\u001b[0;34m\u001b[0m\u001b[0;34m\u001b[0m\u001b[0m\n\u001b[0;32m---> 70\u001b[0;31m             \u001b[0;32mraise\u001b[0m \u001b[0me\u001b[0m\u001b[0;34m.\u001b[0m\u001b[0mwith_traceback\u001b[0m\u001b[0;34m(\u001b[0m\u001b[0mfiltered_tb\u001b[0m\u001b[0;34m)\u001b[0m \u001b[0;32mfrom\u001b[0m \u001b[0;32mNone\u001b[0m\u001b[0;34m\u001b[0m\u001b[0;34m\u001b[0m\u001b[0m\n\u001b[0m\u001b[1;32m     71\u001b[0m         \u001b[0;32mfinally\u001b[0m\u001b[0;34m:\u001b[0m\u001b[0;34m\u001b[0m\u001b[0;34m\u001b[0m\u001b[0m\n\u001b[1;32m     72\u001b[0m             \u001b[0;32mdel\u001b[0m \u001b[0mfiltered_tb\u001b[0m\u001b[0;34m\u001b[0m\u001b[0;34m\u001b[0m\u001b[0m\n",
            "\u001b[0;32m/usr/local/lib/python3.10/dist-packages/keras/saving/legacy/hdf5_format.py\u001b[0m in \u001b[0;36m_legacy_weights\u001b[0;34m(layer)\u001b[0m\n\u001b[1;32m   1100\u001b[0m     \u001b[0mweights\u001b[0m \u001b[0;34m=\u001b[0m \u001b[0mlayer\u001b[0m\u001b[0;34m.\u001b[0m\u001b[0mtrainable_weights\u001b[0m \u001b[0;34m+\u001b[0m \u001b[0mlayer\u001b[0m\u001b[0;34m.\u001b[0m\u001b[0mnon_trainable_weights\u001b[0m\u001b[0;34m\u001b[0m\u001b[0;34m\u001b[0m\u001b[0m\n\u001b[1;32m   1101\u001b[0m     \u001b[0;32mif\u001b[0m \u001b[0many\u001b[0m\u001b[0;34m(\u001b[0m\u001b[0;32mnot\u001b[0m \u001b[0misinstance\u001b[0m\u001b[0;34m(\u001b[0m\u001b[0mw\u001b[0m\u001b[0;34m,\u001b[0m \u001b[0mtf\u001b[0m\u001b[0;34m.\u001b[0m\u001b[0mVariable\u001b[0m\u001b[0;34m)\u001b[0m \u001b[0;32mfor\u001b[0m \u001b[0mw\u001b[0m \u001b[0;32min\u001b[0m \u001b[0mweights\u001b[0m\u001b[0;34m)\u001b[0m\u001b[0;34m:\u001b[0m\u001b[0;34m\u001b[0m\u001b[0;34m\u001b[0m\u001b[0m\n\u001b[0;32m-> 1102\u001b[0;31m         raise NotImplementedError(\n\u001b[0m\u001b[1;32m   1103\u001b[0m             \u001b[0;34m\"Save or restore weights that is not an instance of `tf.Variable` \"\u001b[0m\u001b[0;34m\u001b[0m\u001b[0;34m\u001b[0m\u001b[0m\n\u001b[1;32m   1104\u001b[0m             \u001b[0;34m\"is not supported in h5, use `save_format='tf'` instead. Received \"\u001b[0m\u001b[0;34m\u001b[0m\u001b[0;34m\u001b[0m\u001b[0m\n",
            "\u001b[0;31mNotImplementedError\u001b[0m: Save or restore weights that is not an instance of `tf.Variable` is not supported in h5, use `save_format='tf'` instead. Received a model or layer TextVectorization with weights [<keras.layers.preprocessing.index_lookup.VocabWeightHandler object at 0x7f9c600213f0>]"
          ]
        }
      ]
    },
    {
      "cell_type": "code",
      "source": [
        "#2"
      ],
      "metadata": {
        "id": "XjlYajAzhqoL"
      },
      "execution_count": null,
      "outputs": []
    },
    {
      "cell_type": "code",
      "source": [
        "np.argmax(a)"
      ],
      "metadata": {
        "id": "uDbh8xRyNUG9",
        "colab": {
          "base_uri": "https://localhost:8080/"
        },
        "outputId": "26ec2b5b-6e0d-4b0e-ee2d-7f2f3bb905d3"
      },
      "execution_count": null,
      "outputs": [
        {
          "output_type": "execute_result",
          "data": {
            "text/plain": [
              "2"
            ]
          },
          "metadata": {},
          "execution_count": 45
        }
      ]
    },
    {
      "cell_type": "code",
      "source": [
        "export_model.predict(p)"
      ],
      "metadata": {
        "colab": {
          "base_uri": "https://localhost:8080/"
        },
        "id": "InMuKsjtgtac",
        "outputId": "4d34d80c-9e64-443c-ae34-5fc315c8fc17"
      },
      "execution_count": null,
      "outputs": [
        {
          "output_type": "stream",
          "name": "stdout",
          "text": [
            "1/1 [==============================] - 0s 42ms/step\n"
          ]
        },
        {
          "output_type": "execute_result",
          "data": {
            "text/plain": [
              "array([[0.00711293, 0.00233856, 0.99054855]], dtype=float32)"
            ]
          },
          "metadata": {},
          "execution_count": 144
        }
      ]
    },
    {
      "cell_type": "code",
      "source": [
        "!zip -r /content/my_model.zip  /content/my_model"
      ],
      "metadata": {
        "colab": {
          "base_uri": "https://localhost:8080/"
        },
        "id": "AdxfRGWRjzfV",
        "outputId": "a4ede242-f93d-43df-c543-4d3d0d5ee0d4"
      },
      "execution_count": null,
      "outputs": [
        {
          "output_type": "stream",
          "name": "stdout",
          "text": [
            "  adding: content/my_model/ (stored 0%)\n",
            "  adding: content/my_model/keras_metadata.pb (deflated 90%)\n",
            "  adding: content/my_model/saved_model.pb (deflated 90%)\n",
            "  adding: content/my_model/variables/ (stored 0%)\n",
            "  adding: content/my_model/variables/variables.data-00000-of-00001 (deflated 52%)\n",
            "  adding: content/my_model/variables/variables.index (deflated 62%)\n",
            "  adding: content/my_model/assets/ (stored 0%)\n",
            "  adding: content/my_model/fingerprint.pb (stored 0%)\n"
          ]
        }
      ]
    },
    {
      "cell_type": "code",
      "source": [
        "#cb download tflite\n",
        "converter = tf.lite.TFLiteConverter.from_keras_model(export_model)\n",
        "converter.optimizations = [tf.lite.Optimize.DEFAULT]\n",
        "converter.experimental_new_converter=True\n",
        "converter.target_spec.supported_ops = [tf.lite.OpsSet.TFLITE_BUILTINS,\n",
        "tf.lite.OpsSet.SELECT_TF_OPS]\n",
        "tflite_model = converter.convert()\n",
        "\n",
        "# Save the TensorFlow Lite model to a .tflite file\n",
        "with open('model.tflite', 'wb') as f:\n",
        "    f.write(tflite_model)"
      ],
      "metadata": {
        "colab": {
          "base_uri": "https://localhost:8080/"
        },
        "id": "r0pY6OiSIw8S",
        "outputId": "f919bfca-6376-4108-aa8a-b1523aa65fd0"
      },
      "execution_count": null,
      "outputs": [
        {
          "output_type": "stream",
          "name": "stderr",
          "text": [
            "WARNING:absl:Found untraced functions such as _update_step_xla, _update_step_xla, lstm_cell_1_layer_call_fn, lstm_cell_1_layer_call_and_return_conditional_losses, softmax_1_layer_call_fn while saving (showing 5 of 6). These functions will not be directly callable after loading.\n"
          ]
        }
      ]
    },
    {
      "cell_type": "code",
      "source": [
        "from google.colab import files"
      ],
      "metadata": {
        "id": "jGLMfLZJkjtN"
      },
      "execution_count": null,
      "outputs": []
    },
    {
      "cell_type": "code",
      "source": [
        "files.download('/content/my_model.zip')"
      ],
      "metadata": {
        "colab": {
          "base_uri": "https://localhost:8080/",
          "height": 17
        },
        "id": "UzH5VAG6j-pR",
        "outputId": "a36d11cc-096e-4129-aaaa-423aa61675f1"
      },
      "execution_count": null,
      "outputs": [
        {
          "output_type": "display_data",
          "data": {
            "text/plain": [
              "<IPython.core.display.Javascript object>"
            ],
            "application/javascript": [
              "\n",
              "    async function download(id, filename, size) {\n",
              "      if (!google.colab.kernel.accessAllowed) {\n",
              "        return;\n",
              "      }\n",
              "      const div = document.createElement('div');\n",
              "      const label = document.createElement('label');\n",
              "      label.textContent = `Downloading \"${filename}\": `;\n",
              "      div.appendChild(label);\n",
              "      const progress = document.createElement('progress');\n",
              "      progress.max = size;\n",
              "      div.appendChild(progress);\n",
              "      document.body.appendChild(div);\n",
              "\n",
              "      const buffers = [];\n",
              "      let downloaded = 0;\n",
              "\n",
              "      const channel = await google.colab.kernel.comms.open(id);\n",
              "      // Send a message to notify the kernel that we're ready.\n",
              "      channel.send({})\n",
              "\n",
              "      for await (const message of channel.messages) {\n",
              "        // Send a message to notify the kernel that we're ready.\n",
              "        channel.send({})\n",
              "        if (message.buffers) {\n",
              "          for (const buffer of message.buffers) {\n",
              "            buffers.push(buffer);\n",
              "            downloaded += buffer.byteLength;\n",
              "            progress.value = downloaded;\n",
              "          }\n",
              "        }\n",
              "      }\n",
              "      const blob = new Blob(buffers, {type: 'application/binary'});\n",
              "      const a = document.createElement('a');\n",
              "      a.href = window.URL.createObjectURL(blob);\n",
              "      a.download = filename;\n",
              "      div.appendChild(a);\n",
              "      a.click();\n",
              "      div.remove();\n",
              "    }\n",
              "  "
            ]
          },
          "metadata": {}
        },
        {
          "output_type": "display_data",
          "data": {
            "text/plain": [
              "<IPython.core.display.Javascript object>"
            ],
            "application/javascript": [
              "download(\"download_fb3c144a-ecc0-47b5-9034-cf87342391b8\", \"my_model.zip\", 447929)"
            ]
          },
          "metadata": {}
        }
      ]
    },
    {
      "cell_type": "code",
      "source": [
        "print(tf. __version__)"
      ],
      "metadata": {
        "colab": {
          "base_uri": "https://localhost:8080/"
        },
        "id": "91BZEIQEkekr",
        "outputId": "98d2dfd3-71eb-4464-8fca-60a3a7c1d44f"
      },
      "execution_count": null,
      "outputs": [
        {
          "output_type": "stream",
          "name": "stdout",
          "text": [
            "2.14.0-dev20230613\n"
          ]
        }
      ]
    },
    {
      "cell_type": "code",
      "source": [
        "!pip show tensorflow"
      ],
      "metadata": {
        "colab": {
          "base_uri": "https://localhost:8080/"
        },
        "id": "R99C_gXWqdsQ",
        "outputId": "4d05c171-7ed1-44dc-fd10-c3b61f9113c2"
      },
      "execution_count": null,
      "outputs": [
        {
          "output_type": "stream",
          "name": "stdout",
          "text": [
            "Name: tensorflow\n",
            "Version: 2.12.0\n",
            "Summary: TensorFlow is an open source machine learning framework for everyone.\n",
            "Home-page: https://www.tensorflow.org/\n",
            "Author: Google Inc.\n",
            "Author-email: packages@tensorflow.org\n",
            "License: Apache 2.0\n",
            "Location: /usr/local/lib/python3.10/dist-packages\n",
            "Requires: absl-py, astunparse, flatbuffers, gast, google-pasta, grpcio, h5py, jax, keras, libclang, numpy, opt-einsum, packaging, protobuf, setuptools, six, tensorboard, tensorflow-estimator, tensorflow-io-gcs-filesystem, termcolor, typing-extensions, wrapt\n",
            "Required-by: dopamine-rl\n"
          ]
        }
      ]
    },
    {
      "cell_type": "code",
      "source": [],
      "metadata": {
        "id": "Uu0_v1vJsJYS"
      },
      "execution_count": null,
      "outputs": []
    }
  ]
}